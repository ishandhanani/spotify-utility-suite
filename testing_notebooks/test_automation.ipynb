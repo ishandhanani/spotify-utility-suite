{
 "cells": [
  {
   "cell_type": "markdown",
   "metadata": {},
   "source": [
    "## Creds"
   ]
  },
  {
   "cell_type": "code",
   "execution_count": 41,
   "metadata": {},
   "outputs": [],
   "source": [
    "import json\n",
    "with open(\"priv.json\") as private:\n",
    "    priv = json.load(private)"
   ]
  },
  {
   "cell_type": "code",
   "execution_count": 43,
   "metadata": {},
   "outputs": [],
   "source": [
    "import pandas as pd\n",
    "import datetime\n",
    "import spotipy\n",
    "from spotipy.oauth2 import SpotifyOAuth\n",
    "from spotipy.oauth2 import SpotifyClientCredentials\n",
    "cid = priv['cid']\n",
    "cids = priv['cids']\n",
    "scope = priv['scope']\n",
    "credentials = SpotifyClientCredentials(client_id=cid, client_secret=cids)\n",
    "sp = spotipy.Spotify(auth_manager=SpotifyOAuth(client_id = cid, client_secret = cids, scope = scope, redirect_uri = \"http://google.com/callback/\"))\n",
    "import spotify_utils as su"
   ]
  },
  {
   "cell_type": "markdown",
   "metadata": {},
   "source": [
    "## Get all saved tracks"
   ]
  },
  {
   "cell_type": "code",
   "execution_count": 3,
   "metadata": {},
   "outputs": [],
   "source": [
    "def get_all_saved_tracks(limit_step=50):\n",
    "    tracks = []\n",
    "    for offset in range(0, 5000, limit_step):\n",
    "        response = sp.current_user_saved_tracks(\n",
    "            limit=limit_step,\n",
    "            offset=offset,\n",
    "        )\n",
    "        #print(response)\n",
    "        if len(response) == 0:\n",
    "            break\n",
    "        tracks.extend(response['items'])\n",
    "        #print(tracks)\n",
    "    return tracks"
   ]
  },
  {
   "cell_type": "markdown",
   "metadata": {},
   "source": [
    "## Get all artists per track "
   ]
  },
  {
   "cell_type": "code",
   "execution_count": null,
   "metadata": {},
   "outputs": [],
   "source": [
    "for i in range(0, len(tracks)):\n",
    "    #print(tracks[i]['track']['name'])\n",
    "    num_artists = len(tracks[i]['track']['artists'])\n",
    "    if num_artists > 1:\n",
    "        #print(\"Has \", num_artists)\n",
    "        alist = []\n",
    "        for j in range(0,num_artists):\n",
    "            #print(tracks[i]['track']['artists'][j]['name'])\n",
    "            alist.append(tracks[i]['track']['artists'][j]['name'])\n",
    "        print(alist)    \n",
    "    else:\n",
    "        print(tracks[i]['track']['artists'][0]['name'])"
   ]
  },
  {
   "cell_type": "markdown",
   "metadata": {},
   "source": [
    "## Get date added "
   ]
  },
  {
   "cell_type": "code",
   "execution_count": null,
   "metadata": {},
   "outputs": [],
   "source": [
    "for i in range(0,len(tracks)):\n",
    "    date = datetime.datetime.strptime(tracks[i]['added_at'].split(\"T\")[0], \"%Y-%m-%d\")\n",
    "    if date > datetime.datetime(year=2022, month=7, day=11):\n",
    "        print(date)\n",
    "    else:\n",
    "        print(\"already added\")"
   ]
  },
  {
   "cell_type": "markdown",
   "metadata": {},
   "source": [
    "## Artist playlist dictionary"
   ]
  },
  {
   "cell_type": "code",
   "execution_count": 35,
   "metadata": {},
   "outputs": [],
   "source": [
    "import json\n",
    "with open(\"playlists.json\") as data:\n",
    "    artist_playlists = json.load(data)\n",
    "\n",
    "with open(\"date.json\") as cutoff:\n",
    "    cutoff = json.load(cutoff)"
   ]
  },
  {
   "cell_type": "code",
   "execution_count": 4,
   "metadata": {},
   "outputs": [],
   "source": [
    "artist_playlists = {\n",
    "    \"$uicideboy$\":'7m2anyDYjemtnmOK1sblce',\n",
    "    \"21 Savage\":'6fBtfg58q6t2e6UKpkK35F',\n",
    "    \"A$AP Ferg\":'27bDl4cqsCBnBhZnD205ro',\n",
    "    \"A$AP Rocky\":'27bDl4cqsCBnBhZnD205ro',\n",
    "    \"A$AP Twelvyy\":'27bDl4cqsCBnBhZnD205ro',\n",
    "    \"A$AP ANT\":'27bDl4cqsCBnBhZnD205ro',\n",
    "    \"A$AP NASTY\":'27bDl4cqsCBnBhZnD205ro',\n",
    "    \"Aaron May\":'6KF9valIwuxpivBifVDxTj',\n",
    "    \"BROCKHAMPTON\":'3ru39qbKGxmgqUcAC9KqRO',\n",
    "    \"Playboi Carti\":'2BbzhphHN96NCYUwB4X2be',\n",
    "    \"Young Nudy\":'2BbzhphHN96NCYUwB4X2be',\n",
    "    \"Pi'erre Bourne\":'2BbzhphHN96NCYUwB4X2be',\n",
    "    \"Daft Punk\":'0rBOXOo0z4mjRkNkZzz8qF',\n",
    "    \"Drake\":'0WwpCXUuTERTaNnG68eu5A',\n",
    "    \"Freddie Gibbs\":'0BQBvjwNK27ymI49EuOLKi',\n",
    "    \"Frank Ocean\":'0EbFCimUCtvqY0UKQNMSBf',\n",
    "    \"Future\":'1ocQYqrRXYYZ11UqONPgGK',\n",
    "    \"Conway the Machine\":'13bHd4MWHciXOUybqpVZSO',\n",
    "    \"Benny The Butcher\":'13bHd4MWHciXOUybqpVZSO',\n",
    "    \"Griselda\":'13bHd4MWHciXOUybqpVZSO',\n",
    "    \"Westside Gunn\":'13bHd4MWHciXOUybqpVZSO',\n",
    "    \"Griselda\":'13bHd4MWHciXOUybqpVZSO',\n",
    "    \"Gunna\":'4DvQwQIvL2ojAOViORCPik',\n",
    "    \"Jack Harlow\":'71ksmV0KwfSyQokowViEdf',\n",
    "    \"J. Cole\":'1lS5ZH8lHVBWkgJqg2npWO',\n",
    "    \"Kendrick Lamar\":'3FQo4JcLOj7snI60zNWF7u',\n",
    "    \"Kid Cudi\":'0bOhgbKQ81V7L9nAQOOIGQ',\n",
    "    \"Kota the Friend\":'0oU9ciIZCVFAfiSE9qchZl',\n",
    "    \"Lil Baby\":'19iDp2RapVf6pqm1lUTF8A',\n",
    "    \"Mac Miller\":'099UX3p9su7lLgP56MJr0t',\n",
    "    \"OnFully\":'52W2ed7EtN4aGx4CCsonFZ',\n",
    "    \"Glockboyz TeeJee\":'52W2ed7EtN4aGx4CCsonFZ',\n",
    "    \"Babyface Ray\":'52W2ed7EtN4aGx4CCsonFZ',\n",
    "    \"Icewear Vezzo\":'52W2ed7EtN4aGx4CCsonFZ',\n",
    "    \"Talibando\":'52W2ed7EtN4aGx4CCsonFZ',\n",
    "    \"Rio Da Yung Og\":'52W2ed7EtN4aGx4CCsonFZ',\n",
    "    \"Maxo Kream\":'4EohmqYcfFFavDm2mvvV3e',\n",
    "    \"Nav\":'0gAqrHGIiRddH7VsOkfXxN',\n",
    "    \"Travis Scott\":'42GVM4IjlXL03XQRuhkQF7',\n",
    "    \"Lil Uzi Vert\":'2tQx1wyURoL9MKkQj6AApj',\n",
    "    \"Wiz Khalifa\":'3GNHTbFSqFCnmXbfpnlKWT',\n",
    "    \"Curren$y\":'3GNHTbFSqFCnmXbfpnlKWT',\n",
    "    \"Kanye West\":'6QsDnmrZ0l8rAS6Ogp5FTN',\n",
    "    \"Yeat\":'21k7Y6Q8WdClsg3m0RUYRV'\n",
    "}"
   ]
  },
  {
   "cell_type": "code",
   "execution_count": 5,
   "metadata": {},
   "outputs": [],
   "source": [
    "def get_artists(song_info):\n",
    "    '''\n",
    "    A way to pull artist(s) information \n",
    "    from the JSON format \n",
    "\n",
    "    Paramters\n",
    "    =========\n",
    "    song_info: dict\n",
    "        The song entry in the tracklist\n",
    "    \n",
    "    Returns\n",
    "    =======\n",
    "    artist: str or list\n",
    "        Either a string of the artist name \n",
    "        or a list containing all artists\n",
    "    '''\n",
    "\n",
    "    num_artists = len(song_info['track']['artists'])\n",
    "    if num_artists > 1:\n",
    "        alist = []\n",
    "        for j in range(0,num_artists):\n",
    "            alist.append(song_info['track']['artists'][j]['name'])\n",
    "        return alist    \n",
    "    else:\n",
    "        return song_info['track']['artists'][0]['name']"
   ]
  },
  {
   "cell_type": "code",
   "execution_count": 38,
   "metadata": {},
   "outputs": [],
   "source": [
    "#get all songs that match the date filter\n",
    "tracks = get_all_saved_tracks(limit_step=50)\n",
    "#check date of songs \n",
    "#if date > 7/11/2022 then skip\n",
    "#otherwise add song information into list\n",
    "valid_songs = []\n",
    "for i in range(0,len(tracks)):\n",
    "    date = datetime.datetime.strptime(tracks[i]['added_at'].split(\"T\")[0], \"%Y-%m-%d\")\n",
    "    if date > datetime.datetime(year=cutoff['year'], month=cutoff['month'], day=cutoff['day']):\n",
    "        valid_songs.append(tracks[i])\n",
    "    #else:\n",
    "        #print(\"Date criterion not met\")\n",
    "#check artists of each song\n",
    "#if artist name exists, add to valid list\n",
    "#if not, add song to non_valid list\n",
    "artist_exist = []\n",
    "artist_not_exist = []\n",
    "for i in range(0, len(valid_songs)):\n",
    "    num_artists = len(valid_songs[i]['track']['artists'])\n",
    "    if num_artists > 1:\n",
    "        alist = []\n",
    "        for j in range(0,num_artists):\n",
    "            alist.append(valid_songs[i]['track']['artists'][j]['name'])\n",
    "        #check if alist contains any values in keys \n",
    "        if any(artists in artist_playlists.keys() for artists in alist):\n",
    "            artist_exist.append(valid_songs[i])\n",
    "        else:\n",
    "            artist_not_exist.append(valid_songs[i])   \n",
    "    else:\n",
    "        name = valid_songs[i]['track']['artists'][0]['name']\n",
    "        if name in artist_playlists.keys():\n",
    "            artist_exist.append(valid_songs[i])\n",
    "        else:\n",
    "            artist_not_exist.append(valid_songs[i])\n",
    "#adding songs to artist playlists \n",
    "#   first check if the song already exists\n",
    "#   if not then add to playlist\n",
    "for i in range(0, len(artist_exist)): #len(artist_exist)\n",
    "    print(i)\n",
    "    target_artist = get_artists(artist_exist[i])\n",
    "    print(target_artist)\n",
    "    if isinstance(target_artist, list):\n",
    "        for a in target_artist:\n",
    "            if a in artist_playlists.keys():\n",
    "                target_playlist = artist_playlists[a]\n",
    "    else:\n",
    "        target_playlist = artist_playlists[target_artist]\n",
    "        print(target_playlist)\n",
    "\n",
    "    tracks_of_target = sp.playlist(playlist_id=target_playlist, fields=\"tracks,next\")\n",
    "    uris_of_target = []\n",
    "    for j in range(0, len(tracks_of_target['tracks']['items'])):\n",
    "        uris_of_target.append(tracks_of_target['tracks']['items'][j]['track']['uri'])\n",
    "    \n",
    "    bool = artist_exist[i]['track']['uri'] in uris_of_target\n",
    "\n",
    "    if bool:\n",
    "        print(\"song is in the playlist uris\")\n",
    "    else:\n",
    "        sp.user_playlist_add_tracks(user='ishandhanani2234',playlist_id=target_playlist, tracks=[artist_exist[i]['track']['uri']])"
   ]
  },
  {
   "cell_type": "code",
   "execution_count": 11,
   "metadata": {},
   "outputs": [
    {
     "name": "stdout",
     "output_type": "stream",
     "text": [
      "On God\n",
      "Guatemala Shawty\n",
      "Secrets (Your Fire)\n",
      "X Wit the\n",
      "Pressure (Interlude)\n",
      "Bluegrass\n",
      "Low Life\n",
      "Real Talk\n",
      "MILK\n",
      "Low Class Conspiracy\n",
      "LA FAMA\n",
      "HOES FAV\n",
      "On Some\n",
      "Cut Me Up\n",
      "Scam Stars (feat. Allstar Jr)\n",
      "Manute Bol\n",
      "Eyes Without A Face\n",
      "Zu lang\n",
      "Duppy - Freestyle\n",
      "Brotherhood (Freestyle)\n",
      "Starts with a Text\n",
      "MTV Steez\n",
      "Thanks And Praises\n",
      "Feeling Like Dennis\n",
      "Breakfast & Chill (feat. Mick Jenkins)\n",
      "Flawless\n",
      "Middle School\n",
      "Narcos\n",
      "Eternal Light\n",
      "Grenade\n",
      "Wat Chu Gone Do (feat. Peewee Longway)\n",
      "Actavis\n",
      "In This Car\n",
      "Let It Go\n",
      "Wraith\n",
      "What I Think (Mhmm Mhmm)\n",
      "Terror\n",
      "Way Of Life\n",
      "Safe\n",
      "Aaron Judge (feat. Cash Kidd)\n",
      "Something I Did\n",
      "Some\n",
      "Bound\n",
      "Untitled\n",
      "Show Me\n",
      "Head High\n",
      "Get Lifted (feat. TAKE-IT, Action Bronson, Killa Sha, Prince Ug, TAKE-IT, Action Bronson, Killa Sha, PRINCE-ORIGINAL, TAKE-IT, Action Bronson, Killa Sha, Prince Ug, TAKE-IT, Action Bronson, Killa Sha & PRINCE-ORIGINAL)\n",
      "Jazzy\n",
      "Rollin'\n",
      "I'll Wait\n",
      "My Mind\n",
      "My Guy\n",
      "Got Me Started\n",
      "5 on the Dot (feat. Xavier Wulf & Bankroll Rico)\n",
      "Bust\n",
      "News Flock\n",
      "Foreign Push Start\n",
      "Women, Weed & 808's\n",
      "HeartBreaks & Robberies\n",
      "Sunday\n",
      "Ha!\n",
      "Make My Way\n",
      "After Laughter\n",
      "What It Was\n",
      "StephMcGrady\n",
      "Mob $hit (feat. Larry June)\n",
      "On Me (feat. Perry August)\n",
      "Quarantine\n",
      "We Get High\n"
     ]
    }
   ],
   "source": [
    "for i in range(0, len(artist_not_exist)):\n",
    "    print(artist_not_exist[i]['track']['name'])"
   ]
  },
  {
   "cell_type": "code",
   "execution_count": 248,
   "metadata": {},
   "outputs": [
    {
     "name": "stdout",
     "output_type": "stream",
     "text": [
      "sike\n"
     ]
    }
   ],
   "source": [
    "#for song in artist_exist:\n",
    "target_artist = get_artists(artist_exist[15])\n",
    "if len(target_artist) > 1:\n",
    "    for a in target_artist:\n",
    "        if a in artist_playlists.keys():\n",
    "            target_playlist = artist_playlists[a]\n",
    "else:\n",
    "    target_playlist = artist_playlists[target_artist]\n",
    "\n",
    "#check if song exists in that playlist \n",
    "#   grab all uri into playlist\n",
    "tracks_of_target = sp.playlist(playlist_id=target_playlist, fields=\"tracks,next\")\n",
    "uris_of_target = []\n",
    "for i in range(0, len(tracks_of_target['tracks']['items'])):\n",
    "    uris_of_target.append(tracks_of_target['tracks']['items'][i]['track']['uri'])\n",
    "\n",
    "#check if liked song uri is in the target uri list\n",
    "if artist_exist[15]['track']['uri'] not in uris_of_target:\n",
    "    sp.user_playlist_add_tracks(user='ishandhanani2234',playlist_id=target_playlist, tracks=[artist_exist[15]['track']['uri']])\n",
    "    print(\"done\")\n",
    "else:\n",
    "    print(\"sike\")"
   ]
  },
  {
   "cell_type": "code",
   "execution_count": 249,
   "metadata": {},
   "outputs": [
    {
     "data": {
      "text/plain": [
       "{'snapshot_id': 'MjIsZTQyMjVlYzcyY2ZkODcxNmE3NjU0NDY2NTMzN2ZlNTc4ZDkwZTY2MQ=='}"
      ]
     },
     "execution_count": 249,
     "metadata": {},
     "output_type": "execute_result"
    }
   ],
   "source": [
    "sp.user_playlist_add_tracks(user='ishandhanani2234',playlist_id=target_playlist, tracks=[artist_exist[15]['track']['uri']])"
   ]
  },
  {
   "cell_type": "code",
   "execution_count": 213,
   "metadata": {},
   "outputs": [
    {
     "data": {
      "text/plain": [
       "'spotify:track:5SkRLpaGtvYPhw02vZhQQ9'"
      ]
     },
     "execution_count": 213,
     "metadata": {},
     "output_type": "execute_result"
    }
   ],
   "source": [
    "tracks_of_target['tracks']['items'][0]['track']['uri']"
   ]
  },
  {
   "cell_type": "code",
   "execution_count": 174,
   "metadata": {},
   "outputs": [],
   "source": [
    "for i in range(0, len(valid_songs)):\n",
    "    num_artists = len(valid_songs[i]['track']['artists'])\n",
    "    if num_artists > 1:\n",
    "        alist = []\n",
    "        for j in range(0,num_artists):\n",
    "            alist.append(valid_songs[i]['track']['artists'][j]['name'])\n",
    "        #check if alist contains any values in keys \n",
    "        if any(artists in artist_playlists.keys() for artists in alist):\n",
    "            artist_exist.append(valid_songs[i])\n",
    "        else:\n",
    "            artist_not_exist.append(valid_songs[i])   \n",
    "    else:\n",
    "        name = valid_songs[i]['track']['artists'][0]['name']\n",
    "        if name in artist_playlists.keys():\n",
    "            artist_exist.append(valid_songs[i])\n",
    "        else:\n",
    "            artist_not_exist.append(valid_songs[i])\n"
   ]
  },
  {
   "cell_type": "code",
   "execution_count": 170,
   "metadata": {},
   "outputs": [
    {
     "data": {
      "text/plain": [
       "294"
      ]
     },
     "execution_count": 170,
     "metadata": {},
     "output_type": "execute_result"
    }
   ],
   "source": [
    "len(artist_not_exist) + len(artist_exist)"
   ]
  },
  {
   "cell_type": "code",
   "execution_count": 175,
   "metadata": {},
   "outputs": [
    {
     "name": "stdout",
     "output_type": "stream",
     "text": [
      "Another You (feat. Kanye West)\n",
      "Red Cream Soda\n",
      "Talk\n",
      "Out thë way\n",
      "Forëally / 4Ly\n",
      "Narcoticz (feat. Yung Kayo)\n",
      "At The Traphouse\n",
      "Breath Control (feat. Wiz Khalifa)\n",
      "Avalon\n",
      "MPH - Remix\n",
      "19\n",
      "KitKat\n",
      "Times Is Rough\n",
      "Visions\n",
      "Nobody\n",
      "Ashes of Luxury\n",
      "Matte Black\n",
      "Genesis\n",
      "Houston Old Head\n",
      "Brand New 911\n",
      "7AM\n",
      "Balenci and Dickies\n",
      "Circus\n",
      "Last Laugh\n",
      "What The Business Is\n",
      "Sad Truth (feat. Aaron May)\n",
      "Last Time\n",
      "Tapatio\n",
      "Freestyle S**t\n"
     ]
    }
   ],
   "source": [
    "for vals in artist_exist:\n",
    "    print(vals['track']['name'])"
   ]
  },
  {
   "cell_type": "code",
   "execution_count": 176,
   "metadata": {},
   "outputs": [
    {
     "name": "stdout",
     "output_type": "stream",
     "text": [
      "On God\n",
      "Guatemala Shawty\n",
      "Secrets (Your Fire)\n",
      "X Wit the\n",
      "Pressure (Interlude)\n",
      "Bluegrass\n",
      "Low Life\n",
      "Real Talk\n",
      "MILK\n",
      "Low Class Conspiracy\n",
      "LA FAMA\n",
      "HOES FAV\n",
      "On Some\n",
      "Cut Me Up\n",
      "Scam Stars (feat. Allstar Jr)\n",
      "Manute Bol\n",
      "Eyes Without A Face\n",
      "Zu lang\n",
      "Duppy - Freestyle\n",
      "Brotherhood (Freestyle)\n",
      "Starts with a Text\n",
      "MTV Steez\n",
      "Thanks And Praises\n",
      "Feeling Like Dennis\n",
      "Breakfast & Chill (feat. Mick Jenkins)\n",
      "Flawless\n",
      "Middle School\n",
      "Narcos\n",
      "Eternal Light\n",
      "Grenade\n",
      "Wat Chu Gone Do (feat. Peewee Longway)\n",
      "Actavis\n",
      "In This Car\n",
      "Let It Go\n",
      "Wraith\n",
      "What I Think (Mhmm Mhmm)\n",
      "Terror\n",
      "Way Of Life\n",
      "Safe\n",
      "Aaron Judge (feat. Cash Kidd)\n",
      "Something I Did\n",
      "Some\n",
      "Bound\n",
      "Untitled\n",
      "Show Me\n",
      "Head High\n",
      "Get Lifted (feat. TAKE-IT, Action Bronson, Killa Sha, Prince Ug, TAKE-IT, Action Bronson, Killa Sha, PRINCE-ORIGINAL, TAKE-IT, Action Bronson, Killa Sha, Prince Ug, TAKE-IT, Action Bronson, Killa Sha & PRINCE-ORIGINAL)\n",
      "Jazzy\n",
      "Rollin'\n",
      "I'll Wait\n",
      "My Mind\n",
      "My Guy\n",
      "Got Me Started\n",
      "5 on the Dot (feat. Xavier Wulf & Bankroll Rico)\n",
      "Bust\n",
      "News Flock\n",
      "Foreign Push Start\n",
      "Women, Weed & 808's\n",
      "HeartBreaks & Robberies\n",
      "Sunday\n",
      "Ha!\n",
      "Make My Way\n",
      "After Laughter\n",
      "What It Was\n",
      "StephMcGrady\n",
      "Mob $hit (feat. Larry June)\n",
      "On Me (feat. Perry August)\n",
      "Quarantine\n",
      "We Get High\n"
     ]
    }
   ],
   "source": [
    "for vals in artist_not_exist:\n",
    "    print(vals['track']['name'])"
   ]
  },
  {
   "cell_type": "code",
   "execution_count": 14,
   "metadata": {},
   "outputs": [],
   "source": [
    "today = datetime.date.today()"
   ]
  },
  {
   "cell_type": "code",
   "execution_count": 18,
   "metadata": {},
   "outputs": [],
   "source": [
    "import pickle\n",
    "pik = pickle.dumps(today)"
   ]
  },
  {
   "cell_type": "code",
   "execution_count": 21,
   "metadata": {},
   "outputs": [
    {
     "data": {
      "text/plain": [
       "datetime.date(2022, 9, 16)"
      ]
     },
     "execution_count": 21,
     "metadata": {},
     "output_type": "execute_result"
    }
   ],
   "source": [
    "pickle.loads(pik)"
   ]
  },
  {
   "cell_type": "code",
   "execution_count": null,
   "metadata": {},
   "outputs": [],
   "source": []
  }
 ],
 "metadata": {
  "kernelspec": {
   "display_name": "Python 3.10.5 ('spotipy')",
   "language": "python",
   "name": "python3"
  },
  "language_info": {
   "codemirror_mode": {
    "name": "ipython",
    "version": 3
   },
   "file_extension": ".py",
   "mimetype": "text/x-python",
   "name": "python",
   "nbconvert_exporter": "python",
   "pygments_lexer": "ipython3",
   "version": "3.10.5"
  },
  "orig_nbformat": 4,
  "vscode": {
   "interpreter": {
    "hash": "fcd049fcd080ffb5265d174378dcf44f3a3e9024d075036f53ddfefa8f72ea50"
   }
  }
 },
 "nbformat": 4,
 "nbformat_minor": 2
}
