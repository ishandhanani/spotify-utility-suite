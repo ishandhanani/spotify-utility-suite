{
 "cells": [
  {
   "cell_type": "markdown",
   "id": "760e1ed9",
   "metadata": {},
   "source": [
    "# Importing libraries "
   ]
  },
  {
   "cell_type": "code",
   "execution_count": 210,
   "id": "1af77b3a",
   "metadata": {},
   "outputs": [],
   "source": [
    "import pandas as pd\n",
    "import numpy as np\n",
    "import matplotlib.pyplot as plt\n",
    "import seaborn as sns"
   ]
  },
  {
   "cell_type": "code",
   "execution_count": 211,
   "id": "8b900715",
   "metadata": {},
   "outputs": [],
   "source": [
    "import spotipy #api\n",
    "from spotipy.oauth2 import SpotifyClientCredentials #login credentials"
   ]
  },
  {
   "cell_type": "markdown",
   "id": "e170a36a",
   "metadata": {},
   "source": [
    "# Authenticating credentials"
   ]
  },
  {
   "cell_type": "code",
   "execution_count": 212,
   "id": "17e561cc",
   "metadata": {},
   "outputs": [],
   "source": [
    "#credentials\n",
    "cid = 'x'\n",
    "cids = 'x'\n",
    "\n",
    "#authentication\n",
    "credentials = SpotifyClientCredentials(client_id= cid, client_secret=cids)\n",
    "sp = spotipy.Spotify(client_credentials_manager = credentials)"
   ]
  },
  {
   "cell_type": "markdown",
   "id": "d57bf2fa",
   "metadata": {},
   "source": [
    "# Functions to extract songs from playlists"
   ]
  },
  {
   "cell_type": "code",
   "execution_count": 213,
   "id": "e3020d44",
   "metadata": {},
   "outputs": [],
   "source": [
    "#necessary functions \n",
    "\n",
    "#extract the URI (ID) from a playlist link\n",
    "def uri_from_playlist(link):\n",
    "    uri = link.split('list/')[1].split('?')[0]\n",
    "    return uri\n",
    "\n",
    "#extract URI from a song\n",
    "def uri_from_song(link):\n",
    "    uri = link.split('track/')[1].split('?')[0]\n",
    "    #format uri in form 'spotify:track:uri'\n",
    "    uri_formatted = 'spotify:track:'+uri\n",
    "    return uri_formatted\n",
    "\n",
    "#extract track URIs from the given playlist URI (returns list with URIs)\n",
    "#this is an upgrade of the original track_output_from_playlist to return all songs of a dataset not just 100\n",
    "def track_output_from_playlist_100(uri_plist):\n",
    "    results = sp.playlist_tracks(uri_plist)\n",
    "    tracks = results[\"items\"] #items removes my data to make dataset\n",
    "    while results['next']:\n",
    "        results = sp.next(results)\n",
    "        tracks.extend(results['items'])\n",
    "    return tracks\n",
    "\n",
    "#extract track URIs from the given playlist URI (returns list with URIs)\n",
    "# def track_output_from_playlist(uri_plist):\n",
    "#     track_output = [x for x in sp.playlist_tracks(uri_plist)[\"items\"]] #items removes my data to make dataset\n",
    "#     return track_output"
   ]
  },
  {
   "cell_type": "markdown",
   "id": "d4f489bc",
   "metadata": {},
   "source": [
    "### Run these to test the functions written above"
   ]
  },
  {
   "cell_type": "code",
   "execution_count": 5,
   "id": "79c92f7c",
   "metadata": {},
   "outputs": [],
   "source": [
    "#playlist and song to test functions with \n",
    "#maisi is a playlist with 169 songs \n",
    "#slide is a song \n",
    "\n",
    "#maisi = 'https://open.spotify.com/playlist/1gNWLVtbKb3aeiws4kUhep?si=9cb4830584094c91'\n",
    "#slide = 'https://open.spotify.com/track/6gpcs5eMhJwax4mIfKDYQk?si=427b2caf0860491b'"
   ]
  },
  {
   "cell_type": "code",
   "execution_count": 6,
   "id": "43114e2a",
   "metadata": {},
   "outputs": [],
   "source": [
    "#testing functions\n",
    "# playlist = uri_from_playlist(maisi) \n",
    "# print(playlist)\n",
    "# song = uri_from_song(slide)\n",
    "# print(song)\n",
    "# tracklist = track_output_from_playlist_100(uri_from_playlist(maisi))\n",
    "# print(tracklist)"
   ]
  },
  {
   "cell_type": "markdown",
   "id": "4cfd36eb",
   "metadata": {},
   "source": [
    "# Analysis of playlist "
   ]
  },
  {
   "cell_type": "code",
   "execution_count": 185,
   "id": "3db313d9",
   "metadata": {},
   "outputs": [],
   "source": [
    "#Enter playlist into the variable below for analysis \n",
    "link = 'https://open.spotify.com/playlist/3fIPLxhjKcmgoVuQo6d7kN?si=bcdafb7303ed4f50'\n",
    "tracklist = track_output_from_playlist_100(uri_from_playlist(link))"
   ]
  },
  {
   "cell_type": "code",
   "execution_count": 186,
   "id": "e57d0ef8",
   "metadata": {},
   "outputs": [],
   "source": [
    "#to display the name of each track, uncomment the print statement\n",
    "track_uris = []\n",
    "track_names = []\n",
    "for idx,tracks in enumerate(tracklist):\n",
    "    #print(idx,'-', tracks['track']['name'],'\\n')\n",
    "    track_uris.append(tracks['track']['uri'])\n",
    "    track_names.append(tracks['track']['name'])"
   ]
  },
  {
   "cell_type": "code",
   "execution_count": 191,
   "id": "d39ca651",
   "metadata": {},
   "outputs": [
    {
     "data": {
      "text/plain": [
       "[{'danceability': 0.866,\n",
       "  'energy': 0.576,\n",
       "  'key': 3,\n",
       "  'loudness': -8.528,\n",
       "  'mode': 0,\n",
       "  'speechiness': 0.361,\n",
       "  'acousticness': 0.411,\n",
       "  'instrumentalness': 0,\n",
       "  'liveness': 0.0727,\n",
       "  'valence': 0.397,\n",
       "  'tempo': 93.535,\n",
       "  'type': 'audio_features',\n",
       "  'id': '340sK9p2KG5MpbGIyBzfbi',\n",
       "  'uri': 'spotify:track:340sK9p2KG5MpbGIyBzfbi',\n",
       "  'track_href': 'https://api.spotify.com/v1/tracks/340sK9p2KG5MpbGIyBzfbi',\n",
       "  'analysis_url': 'https://api.spotify.com/v1/audio-analysis/340sK9p2KG5MpbGIyBzfbi',\n",
       "  'duration_ms': 209626,\n",
       "  'time_signature': 4}]"
      ]
     },
     "execution_count": 191,
     "metadata": {},
     "output_type": "execute_result"
    }
   ],
   "source": [
    "sp.audio_features(track_uris[0])"
   ]
  },
  {
   "cell_type": "code",
   "execution_count": 187,
   "id": "d0116bb6",
   "metadata": {
    "scrolled": false
   },
   "outputs": [
    {
     "name": "stdout",
     "output_type": "stream",
     "text": [
      "danceability\n",
      "energy\n",
      "key\n",
      "loudness\n",
      "mode\n",
      "speechiness\n",
      "acousticness\n",
      "instrumentalness\n",
      "liveness\n",
      "valence\n",
      "tempo\n",
      "type\n",
      "id\n",
      "uri\n",
      "track_href\n",
      "analysis_url\n",
      "duration_ms\n",
      "time_signature\n"
     ]
    }
   ],
   "source": [
    "#list of all features given in the audio_features method\n",
    "#to view the type of output, uncomment the print type statement\n",
    "for key,val in sp.audio_features(tracklist[0]['track']['uri'])[0].items():\n",
    "    print(key)\n",
    "    #print(type(val))"
   ]
  },
  {
   "cell_type": "code",
   "execution_count": 165,
   "id": "720b8412",
   "metadata": {},
   "outputs": [],
   "source": [
    "#we are only interested in numerical features associated with each song\n",
    "numeric_features = ['danceability', 'energy', 'key', 'loudness', 'mode', 'speechiness', 'acousticness', \n",
    "                    'instrumentalness', 'liveness', 'valence', 'tempo', 'duration_ms', 'time_signature']        "
   ]
  },
  {
   "cell_type": "code",
   "execution_count": 166,
   "id": "cabdcda2",
   "metadata": {},
   "outputs": [
    {
     "name": "stdout",
     "output_type": "stream",
     "text": [
      "All data has been added to the feature matrix\n"
     ]
    }
   ],
   "source": [
    "#this creates the dataframe that holds all of the feature data\n",
    "features_df = pd.DataFrame()\n",
    "\n",
    "#create dataframe with songs and their numerical features for plotting\n",
    "for idx,uri in enumerate(track_uris):\n",
    "    feat_list = []\n",
    "    for vals in numeric_features:\n",
    "        value = sp.audio_features(uri)[0][vals]\n",
    "        feat_list.append(value)\n",
    "    feat_s = pd.Series(feat_list).T\n",
    "    #print(feat_s.shape)\n",
    "    features_df = pd.concat([features_df, feat_s], axis=1)\n",
    "    if idx % 20 == 0 and idx != 0:\n",
    "        print('Data from ', idx, 'songs have been parsed')\n",
    "print(\"All data has been added to the feature matrix\")"
   ]
  },
  {
   "cell_type": "code",
   "execution_count": 167,
   "id": "d9fd966f",
   "metadata": {
    "scrolled": true
   },
   "outputs": [],
   "source": [
    "features_df.index = numeric_features\n",
    "features_df.columns = track_names\n",
    "features_df = features_df.T"
   ]
  },
  {
   "cell_type": "code",
   "execution_count": 168,
   "id": "9d1f1958",
   "metadata": {},
   "outputs": [],
   "source": [
    "#adding a popularity score\n",
    "pop_score = []\n",
    "for t in range(0, len(tracklist)):\n",
    "    pop_score.append(tracklist[t]['track']['popularity'])\n",
    "pop_score = pd.DataFrame(pop_score, columns=['popularity'], index = track_names)\n",
    "features_df = pd.concat([features_df, pop_score], axis=1)"
   ]
  },
  {
   "cell_type": "code",
   "execution_count": 169,
   "id": "a83bf5ef",
   "metadata": {},
   "outputs": [
    {
     "data": {
      "text/html": [
       "<div>\n",
       "<style scoped>\n",
       "    .dataframe tbody tr th:only-of-type {\n",
       "        vertical-align: middle;\n",
       "    }\n",
       "\n",
       "    .dataframe tbody tr th {\n",
       "        vertical-align: top;\n",
       "    }\n",
       "\n",
       "    .dataframe thead th {\n",
       "        text-align: right;\n",
       "    }\n",
       "</style>\n",
       "<table border=\"1\" class=\"dataframe\">\n",
       "  <thead>\n",
       "    <tr style=\"text-align: right;\">\n",
       "      <th></th>\n",
       "      <th>danceability</th>\n",
       "      <th>energy</th>\n",
       "      <th>key</th>\n",
       "      <th>loudness</th>\n",
       "      <th>mode</th>\n",
       "      <th>speechiness</th>\n",
       "      <th>acousticness</th>\n",
       "      <th>instrumentalness</th>\n",
       "      <th>liveness</th>\n",
       "      <th>valence</th>\n",
       "      <th>tempo</th>\n",
       "      <th>duration_ms</th>\n",
       "      <th>time_signature</th>\n",
       "      <th>popularity</th>\n",
       "    </tr>\n",
       "  </thead>\n",
       "  <tbody>\n",
       "    <tr>\n",
       "      <th>Winter Time Grind (feat. Babyface Ray)</th>\n",
       "      <td>0.866</td>\n",
       "      <td>0.576</td>\n",
       "      <td>3.0</td>\n",
       "      <td>-8.528</td>\n",
       "      <td>0.0</td>\n",
       "      <td>0.3610</td>\n",
       "      <td>0.4110</td>\n",
       "      <td>0.000000</td>\n",
       "      <td>0.0727</td>\n",
       "      <td>0.397</td>\n",
       "      <td>93.535</td>\n",
       "      <td>209626.0</td>\n",
       "      <td>4.0</td>\n",
       "      <td>41</td>\n",
       "    </tr>\n",
       "    <tr>\n",
       "      <th>Slide (feat. Frank Ocean &amp; Migos)</th>\n",
       "      <td>0.736</td>\n",
       "      <td>0.795</td>\n",
       "      <td>1.0</td>\n",
       "      <td>-3.299</td>\n",
       "      <td>0.0</td>\n",
       "      <td>0.0545</td>\n",
       "      <td>0.4980</td>\n",
       "      <td>0.000001</td>\n",
       "      <td>0.2540</td>\n",
       "      <td>0.511</td>\n",
       "      <td>104.066</td>\n",
       "      <td>230813.0</td>\n",
       "      <td>4.0</td>\n",
       "      <td>73</td>\n",
       "    </tr>\n",
       "    <tr>\n",
       "      <th>Baby Pluto</th>\n",
       "      <td>0.772</td>\n",
       "      <td>0.634</td>\n",
       "      <td>10.0</td>\n",
       "      <td>-6.101</td>\n",
       "      <td>0.0</td>\n",
       "      <td>0.2120</td>\n",
       "      <td>0.1350</td>\n",
       "      <td>0.000000</td>\n",
       "      <td>0.4320</td>\n",
       "      <td>0.671</td>\n",
       "      <td>160.052</td>\n",
       "      <td>210261.0</td>\n",
       "      <td>4.0</td>\n",
       "      <td>68</td>\n",
       "    </tr>\n",
       "    <tr>\n",
       "      <th>44 BullDog</th>\n",
       "      <td>0.800</td>\n",
       "      <td>0.564</td>\n",
       "      <td>8.0</td>\n",
       "      <td>-5.817</td>\n",
       "      <td>1.0</td>\n",
       "      <td>0.4000</td>\n",
       "      <td>0.0287</td>\n",
       "      <td>0.000002</td>\n",
       "      <td>0.1120</td>\n",
       "      <td>0.318</td>\n",
       "      <td>139.989</td>\n",
       "      <td>150857.0</td>\n",
       "      <td>4.0</td>\n",
       "      <td>64</td>\n",
       "    </tr>\n",
       "    <tr>\n",
       "      <th>can't leave without it</th>\n",
       "      <td>0.872</td>\n",
       "      <td>0.591</td>\n",
       "      <td>6.0</td>\n",
       "      <td>-6.952</td>\n",
       "      <td>0.0</td>\n",
       "      <td>0.3590</td>\n",
       "      <td>0.1110</td>\n",
       "      <td>0.000000</td>\n",
       "      <td>0.1440</td>\n",
       "      <td>0.696</td>\n",
       "      <td>131.982</td>\n",
       "      <td>205352.0</td>\n",
       "      <td>4.0</td>\n",
       "      <td>72</td>\n",
       "    </tr>\n",
       "  </tbody>\n",
       "</table>\n",
       "</div>"
      ],
      "text/plain": [
       "                                        danceability  energy   key  loudness  \\\n",
       "Winter Time Grind (feat. Babyface Ray)         0.866   0.576   3.0    -8.528   \n",
       "Slide (feat. Frank Ocean & Migos)              0.736   0.795   1.0    -3.299   \n",
       "Baby Pluto                                     0.772   0.634  10.0    -6.101   \n",
       "44 BullDog                                     0.800   0.564   8.0    -5.817   \n",
       "can't leave without it                         0.872   0.591   6.0    -6.952   \n",
       "\n",
       "                                        mode  speechiness  acousticness  \\\n",
       "Winter Time Grind (feat. Babyface Ray)   0.0       0.3610        0.4110   \n",
       "Slide (feat. Frank Ocean & Migos)        0.0       0.0545        0.4980   \n",
       "Baby Pluto                               0.0       0.2120        0.1350   \n",
       "44 BullDog                               1.0       0.4000        0.0287   \n",
       "can't leave without it                   0.0       0.3590        0.1110   \n",
       "\n",
       "                                        instrumentalness  liveness  valence  \\\n",
       "Winter Time Grind (feat. Babyface Ray)          0.000000    0.0727    0.397   \n",
       "Slide (feat. Frank Ocean & Migos)               0.000001    0.2540    0.511   \n",
       "Baby Pluto                                      0.000000    0.4320    0.671   \n",
       "44 BullDog                                      0.000002    0.1120    0.318   \n",
       "can't leave without it                          0.000000    0.1440    0.696   \n",
       "\n",
       "                                          tempo  duration_ms  time_signature  \\\n",
       "Winter Time Grind (feat. Babyface Ray)   93.535     209626.0             4.0   \n",
       "Slide (feat. Frank Ocean & Migos)       104.066     230813.0             4.0   \n",
       "Baby Pluto                              160.052     210261.0             4.0   \n",
       "44 BullDog                              139.989     150857.0             4.0   \n",
       "can't leave without it                  131.982     205352.0             4.0   \n",
       "\n",
       "                                        popularity  \n",
       "Winter Time Grind (feat. Babyface Ray)          41  \n",
       "Slide (feat. Frank Ocean & Migos)               73  \n",
       "Baby Pluto                                      68  \n",
       "44 BullDog                                      64  \n",
       "can't leave without it                          72  "
      ]
     },
     "execution_count": 169,
     "metadata": {},
     "output_type": "execute_result"
    }
   ],
   "source": [
    "features_df.head()"
   ]
  },
  {
   "cell_type": "code",
   "execution_count": 172,
   "id": "673ca9db",
   "metadata": {},
   "outputs": [
    {
     "data": {
      "text/plain": [
       "Text(0.5, 1.0, 'Time Signature')"
      ]
     },
     "execution_count": 172,
     "metadata": {},
     "output_type": "execute_result"
    },
    {
     "data": {
      "image/png": "[encoded data removed]",
      "text/plain": [
       "<Figure size 1152x432 with 3 Axes>"
      ]
     },
     "metadata": {
      "needs_background": "light"
     },
     "output_type": "display_data"
    }
   ],
   "source": [
    "#Danceability, Energy, Time Signature\n",
    "fig,ax = plt.subplots(1,3,figsize=(16,6))\n",
    "fig.subplots_adjust(wspace=0.1)\n",
    "\n",
    "ax[0].bar(range(0,len(features_df.index)), features_df.danceability)\n",
    "ax[0].set_title('Danceability')\n",
    "ax[1].bar(range(0,len(features_df.index)), features_df.energy)\n",
    "ax[1].set_title('Energy')\n",
    "ax[2].bar(range(0,len(features_df.index)), features_df.time_signature)\n",
    "ax[2].set_title('Time Signature')"
   ]
  },
  {
   "cell_type": "code",
   "execution_count": 173,
   "id": "308c62f3",
   "metadata": {},
   "outputs": [
    {
     "data": {
      "text/plain": [
       "Text(0.5, 1.0, 'Speechiness')"
      ]
     },
     "execution_count": 173,
     "metadata": {},
     "output_type": "execute_result"
    },
    {
     "data": {
      "image/png": "[encoded data removed]",
      "text/plain": [
       "<Figure size 1152x432 with 3 Axes>"
      ]
     },
     "metadata": {
      "needs_background": "light"
     },
     "output_type": "display_data"
    }
   ],
   "source": [
    "#loudness, mode, speechiness\n",
    "fig,ax = plt.subplots(1,3,figsize=(16,6))\n",
    "fig.subplots_adjust(wspace=0.2)\n",
    "\n",
    "ax[0].bar(range(0,len(features_df.index)), features_df.loudness)\n",
    "ax[0].set_title('Loudness')\n",
    "ax[1].plot(range(0,len(features_df.index)), features_df['mode'])\n",
    "ax[1].set_title('Mode')\n",
    "ax[2].bar(range(0,len(features_df.index)), features_df.speechiness)\n",
    "ax[2].set_title('Speechiness')"
   ]
  },
  {
   "cell_type": "code",
   "execution_count": 174,
   "id": "5f342664",
   "metadata": {},
   "outputs": [
    {
     "data": {
      "text/plain": [
       "Text(0.5, 1.0, 'Liveness')"
      ]
     },
     "execution_count": 174,
     "metadata": {},
     "output_type": "execute_result"
    },
    {
     "data": {
      "image/png": "[encoded data removed]",
      "text/plain": [
       "<Figure size 1152x432 with 3 Axes>"
      ]
     },
     "metadata": {
      "needs_background": "light"
     },
     "output_type": "display_data"
    }
   ],
   "source": [
    "#acousticness, instrumentalness, liveness\n",
    "fig,ax = plt.subplots(1,3,figsize=(16,6))\n",
    "fig.subplots_adjust(wspace=0.3)\n",
    "\n",
    "ax[0].bar(range(0,len(features_df.index)), features_df.acousticness)\n",
    "ax[0].set_title('Acousticness')\n",
    "ax[1].plot(range(0,len(features_df.index)), features_df['instrumentalness'])\n",
    "ax[1].set_title('Instrumentalness')\n",
    "ax[2].bar(range(0,len(features_df.index)), features_df.liveness)\n",
    "ax[2].set_title('Liveness')"
   ]
  },
  {
   "cell_type": "code",
   "execution_count": 175,
   "id": "c8cc1ab9",
   "metadata": {},
   "outputs": [
    {
     "data": {
      "text/plain": [
       "Text(0.5, 1.0, 'Duration')"
      ]
     },
     "execution_count": 175,
     "metadata": {},
     "output_type": "execute_result"
    },
    {
     "data": {
      "image/png": "[encoded data removed]",
      "text/plain": [
       "<Figure size 1152x432 with 3 Axes>"
      ]
     },
     "metadata": {
      "needs_background": "light"
     },
     "output_type": "display_data"
    }
   ],
   "source": [
    "#valence, tempo, duration\n",
    "fig,ax = plt.subplots(1,3,figsize=(16,6))\n",
    "fig.subplots_adjust(wspace=0.3)\n",
    "\n",
    "ax[0].bar(range(0,len(features_df.index)), features_df.valence)\n",
    "ax[0].set_title('Valence')\n",
    "ax[1].bar(range(0,len(features_df.index)), features_df['tempo'])\n",
    "ax[1].set_title('Tempo')\n",
    "ax[2].bar(range(0,len(features_df.index)), features_df.duration_ms)\n",
    "ax[2].set_title('Duration')"
   ]
  },
  {
   "cell_type": "code",
   "execution_count": 176,
   "id": "637a523a",
   "metadata": {},
   "outputs": [
    {
     "data": {
      "text/plain": [
       "Text(0.5, 1.0, 'Popularity')"
      ]
     },
     "execution_count": 176,
     "metadata": {},
     "output_type": "execute_result"
    },
    {
     "data": {
      "image/png": "[encoded data removed]",
      "text/plain": [
       "<Figure size 1152x432 with 2 Axes>"
      ]
     },
     "metadata": {
      "needs_background": "light"
     },
     "output_type": "display_data"
    }
   ],
   "source": [
    "#time_sig, popularity\n",
    "fig,ax = plt.subplots(1,2,figsize=(16,6))\n",
    "fig.subplots_adjust(wspace=0.3)\n",
    "\n",
    "ax[0].bar(range(0,len(features_df.index)), features_df.time_signature)\n",
    "ax[0].set_title('Time Sig')\n",
    "ax[1].bar(range(0,len(features_df.index)), features_df['popularity'])\n",
    "ax[1].set_title('Popularity')"
   ]
  },
  {
   "cell_type": "code",
   "execution_count": 170,
   "id": "097b8fef",
   "metadata": {},
   "outputs": [],
   "source": [
    "#normalize dataset \n",
    "features_norm=(features_df-features_df.min())/(features_df.max()-features_df.min())"
   ]
  },
  {
   "cell_type": "code",
   "execution_count": 171,
   "id": "29caee9d",
   "metadata": {},
   "outputs": [
    {
     "data": {
      "text/html": [
       "<div>\n",
       "<style scoped>\n",
       "    .dataframe tbody tr th:only-of-type {\n",
       "        vertical-align: middle;\n",
       "    }\n",
       "\n",
       "    .dataframe tbody tr th {\n",
       "        vertical-align: top;\n",
       "    }\n",
       "\n",
       "    .dataframe thead th {\n",
       "        text-align: right;\n",
       "    }\n",
       "</style>\n",
       "<table border=\"1\" class=\"dataframe\">\n",
       "  <thead>\n",
       "    <tr style=\"text-align: right;\">\n",
       "      <th></th>\n",
       "      <th>danceability</th>\n",
       "      <th>energy</th>\n",
       "      <th>key</th>\n",
       "      <th>loudness</th>\n",
       "      <th>mode</th>\n",
       "      <th>speechiness</th>\n",
       "      <th>acousticness</th>\n",
       "      <th>instrumentalness</th>\n",
       "      <th>liveness</th>\n",
       "      <th>valence</th>\n",
       "      <th>tempo</th>\n",
       "      <th>duration_ms</th>\n",
       "      <th>time_signature</th>\n",
       "      <th>popularity</th>\n",
       "    </tr>\n",
       "  </thead>\n",
       "  <tbody>\n",
       "    <tr>\n",
       "      <th>Winter Time Grind (feat. Babyface Ray)</th>\n",
       "      <td>0.955882</td>\n",
       "      <td>0.091286</td>\n",
       "      <td>0.222222</td>\n",
       "      <td>0.000000</td>\n",
       "      <td>0.0</td>\n",
       "      <td>0.887120</td>\n",
       "      <td>0.814618</td>\n",
       "      <td>0.000000</td>\n",
       "      <td>0.000000</td>\n",
       "      <td>0.213158</td>\n",
       "      <td>0.000000</td>\n",
       "      <td>0.518314</td>\n",
       "      <td>NaN</td>\n",
       "      <td>0.561644</td>\n",
       "    </tr>\n",
       "    <tr>\n",
       "      <th>Slide (feat. Frank Ocean &amp; Migos)</th>\n",
       "      <td>0.000000</td>\n",
       "      <td>1.000000</td>\n",
       "      <td>0.000000</td>\n",
       "      <td>1.000000</td>\n",
       "      <td>0.0</td>\n",
       "      <td>0.000000</td>\n",
       "      <td>1.000000</td>\n",
       "      <td>0.001282</td>\n",
       "      <td>0.504592</td>\n",
       "      <td>0.513158</td>\n",
       "      <td>0.158320</td>\n",
       "      <td>0.705173</td>\n",
       "      <td>NaN</td>\n",
       "      <td>1.000000</td>\n",
       "    </tr>\n",
       "    <tr>\n",
       "      <th>Baby Pluto</th>\n",
       "      <td>0.264706</td>\n",
       "      <td>0.331950</td>\n",
       "      <td>1.000000</td>\n",
       "      <td>0.464142</td>\n",
       "      <td>0.0</td>\n",
       "      <td>0.455861</td>\n",
       "      <td>0.226508</td>\n",
       "      <td>0.000000</td>\n",
       "      <td>1.000000</td>\n",
       "      <td>0.934211</td>\n",
       "      <td>1.000000</td>\n",
       "      <td>0.523914</td>\n",
       "      <td>NaN</td>\n",
       "      <td>0.931507</td>\n",
       "    </tr>\n",
       "    <tr>\n",
       "      <th>44 BullDog</th>\n",
       "      <td>0.470588</td>\n",
       "      <td>0.041494</td>\n",
       "      <td>0.777778</td>\n",
       "      <td>0.518455</td>\n",
       "      <td>1.0</td>\n",
       "      <td>1.000000</td>\n",
       "      <td>0.000000</td>\n",
       "      <td>0.001748</td>\n",
       "      <td>0.109379</td>\n",
       "      <td>0.005263</td>\n",
       "      <td>0.698378</td>\n",
       "      <td>0.000000</td>\n",
       "      <td>NaN</td>\n",
       "      <td>0.876712</td>\n",
       "    </tr>\n",
       "    <tr>\n",
       "      <th>can't leave without it</th>\n",
       "      <td>1.000000</td>\n",
       "      <td>0.153527</td>\n",
       "      <td>0.555556</td>\n",
       "      <td>0.301396</td>\n",
       "      <td>0.0</td>\n",
       "      <td>0.881331</td>\n",
       "      <td>0.175368</td>\n",
       "      <td>0.000000</td>\n",
       "      <td>0.198441</td>\n",
       "      <td>1.000000</td>\n",
       "      <td>0.578003</td>\n",
       "      <td>0.480619</td>\n",
       "      <td>NaN</td>\n",
       "      <td>0.986301</td>\n",
       "    </tr>\n",
       "  </tbody>\n",
       "</table>\n",
       "</div>"
      ],
      "text/plain": [
       "                                        danceability    energy       key  \\\n",
       "Winter Time Grind (feat. Babyface Ray)      0.955882  0.091286  0.222222   \n",
       "Slide (feat. Frank Ocean & Migos)           0.000000  1.000000  0.000000   \n",
       "Baby Pluto                                  0.264706  0.331950  1.000000   \n",
       "44 BullDog                                  0.470588  0.041494  0.777778   \n",
       "can't leave without it                      1.000000  0.153527  0.555556   \n",
       "\n",
       "                                        loudness  mode  speechiness  \\\n",
       "Winter Time Grind (feat. Babyface Ray)  0.000000   0.0     0.887120   \n",
       "Slide (feat. Frank Ocean & Migos)       1.000000   0.0     0.000000   \n",
       "Baby Pluto                              0.464142   0.0     0.455861   \n",
       "44 BullDog                              0.518455   1.0     1.000000   \n",
       "can't leave without it                  0.301396   0.0     0.881331   \n",
       "\n",
       "                                        acousticness  instrumentalness  \\\n",
       "Winter Time Grind (feat. Babyface Ray)      0.814618          0.000000   \n",
       "Slide (feat. Frank Ocean & Migos)           1.000000          0.001282   \n",
       "Baby Pluto                                  0.226508          0.000000   \n",
       "44 BullDog                                  0.000000          0.001748   \n",
       "can't leave without it                      0.175368          0.000000   \n",
       "\n",
       "                                        liveness   valence     tempo  \\\n",
       "Winter Time Grind (feat. Babyface Ray)  0.000000  0.213158  0.000000   \n",
       "Slide (feat. Frank Ocean & Migos)       0.504592  0.513158  0.158320   \n",
       "Baby Pluto                              1.000000  0.934211  1.000000   \n",
       "44 BullDog                              0.109379  0.005263  0.698378   \n",
       "can't leave without it                  0.198441  1.000000  0.578003   \n",
       "\n",
       "                                        duration_ms  time_signature  \\\n",
       "Winter Time Grind (feat. Babyface Ray)     0.518314             NaN   \n",
       "Slide (feat. Frank Ocean & Migos)          0.705173             NaN   \n",
       "Baby Pluto                                 0.523914             NaN   \n",
       "44 BullDog                                 0.000000             NaN   \n",
       "can't leave without it                     0.480619             NaN   \n",
       "\n",
       "                                        popularity  \n",
       "Winter Time Grind (feat. Babyface Ray)    0.561644  \n",
       "Slide (feat. Frank Ocean & Migos)         1.000000  \n",
       "Baby Pluto                                0.931507  \n",
       "44 BullDog                                0.876712  \n",
       "can't leave without it                    0.986301  "
      ]
     },
     "execution_count": 171,
     "metadata": {},
     "output_type": "execute_result"
    }
   ],
   "source": [
    "features_norm.head()"
   ]
  },
  {
   "cell_type": "code",
   "execution_count": 53,
   "id": "de37394b",
   "metadata": {},
   "outputs": [
    {
     "data": {
      "image/png": "[encoded data removed]",
      "text/plain": [
       "<Figure size 1224x576 with 1 Axes>"
      ]
     },
     "metadata": {
      "needs_background": "light"
     },
     "output_type": "display_data"
    }
   ],
   "source": [
    "#show violin plot of all of the features\n",
    "# fig, ax = plt.subplots()\n",
    "# fig.set_size_inches(17, 8)\n",
    "# ax.violinplot(features_norm.iloc[:,:], showmedians=True)\n",
    "# ax.set_title('violin plot')\n",
    "# ax.set_xticks([x for x in range(0,len(features_norm.columns))])\n",
    "# ax.set_xticklabels(features_norm.columns)\n",
    "# plt.xticks(rotation=45)\n",
    "# plt.show()\n",
    "\n",
    "#show violin plots of certain number of features\n",
    "num_features = 3\n",
    "fig, ax = plt.subplots()\n",
    "fig.set_size_inches(17, 8)\n",
    "ax.violinplot(features_norm.iloc[:,0:num_features], showmedians=True)\n",
    "ax.set_title('violin plot')\n",
    "ax.set_xticks([x for x in range(1,num_features+1)])\n",
    "ax.set_xticklabels(features_norm.columns[0:num_features])\n",
    "plt.xticks(rotation=45)\n",
    "plt.show()"
   ]
  },
  {
   "cell_type": "markdown",
   "id": "27a0dad8",
   "metadata": {},
   "source": [
    "# Saving the required playlist tracklists for clustering"
   ]
  },
  {
   "cell_type": "markdown",
   "id": "e3853aea",
   "metadata": {},
   "source": [
    "The goal of this project is tri fold\n",
    "\n",
    "1. Compare my artist playlists with spotify's artists playlists and see if they cluster the same\n",
    "2. Analyze the different mood playlists that I have \n",
    "3. Create a recommendation system based on the custom moods playlists that exist"
   ]
  },
  {
   "cell_type": "code",
   "execution_count": 215,
   "id": "a0902d9b",
   "metadata": {},
   "outputs": [
    {
     "data": {
      "text/html": [
       "<div>\n",
       "<style scoped>\n",
       "    .dataframe tbody tr th:only-of-type {\n",
       "        vertical-align: middle;\n",
       "    }\n",
       "\n",
       "    .dataframe tbody tr th {\n",
       "        vertical-align: top;\n",
       "    }\n",
       "\n",
       "    .dataframe thead th {\n",
       "        text-align: right;\n",
       "    }\n",
       "</style>\n",
       "<table border=\"1\" class=\"dataframe\">\n",
       "  <thead>\n",
       "    <tr style=\"text-align: right;\">\n",
       "      <th></th>\n",
       "      <th>artist_name</th>\n",
       "      <th>playlist_link</th>\n",
       "    </tr>\n",
       "  </thead>\n",
       "  <tbody>\n",
       "    <tr>\n",
       "      <th>0</th>\n",
       "      <td>suicideboys</td>\n",
       "      <td>https://open.spotify.com/playlist/37i9dQZF1DZ0...</td>\n",
       "    </tr>\n",
       "    <tr>\n",
       "      <th>1</th>\n",
       "      <td>21 savage</td>\n",
       "      <td>https://open.spotify.com/playlist/37i9dQZF1DWY...</td>\n",
       "    </tr>\n",
       "  </tbody>\n",
       "</table>\n",
       "</div>"
      ],
      "text/plain": [
       "   artist_name                                      playlist_link\n",
       "0  suicideboys  https://open.spotify.com/playlist/37i9dQZF1DZ0...\n",
       "1    21 savage  https://open.spotify.com/playlist/37i9dQZF1DWY..."
      ]
     },
     "execution_count": 215,
     "metadata": {},
     "output_type": "execute_result"
    }
   ],
   "source": [
    "#loading artist_playlist csv which contains name and playlist_link\n",
    "artist_playlists = pd.read_csv('spotify_artist_playlists.csv', header = None)\n",
    "artist_playlists.columns = ['artist_name', 'playlist_link']\n",
    "artist_playlists.head(2)"
   ]
  },
  {
   "cell_type": "code",
   "execution_count": 216,
   "id": "af324fe2",
   "metadata": {},
   "outputs": [
    {
     "data": {
      "text/html": [
       "<div>\n",
       "<style scoped>\n",
       "    .dataframe tbody tr th:only-of-type {\n",
       "        vertical-align: middle;\n",
       "    }\n",
       "\n",
       "    .dataframe tbody tr th {\n",
       "        vertical-align: top;\n",
       "    }\n",
       "\n",
       "    .dataframe thead th {\n",
       "        text-align: right;\n",
       "    }\n",
       "</style>\n",
       "<table border=\"1\" class=\"dataframe\">\n",
       "  <thead>\n",
       "    <tr style=\"text-align: right;\">\n",
       "      <th></th>\n",
       "      <th>artist_name</th>\n",
       "      <th>uri</th>\n",
       "    </tr>\n",
       "  </thead>\n",
       "  <tbody>\n",
       "    <tr>\n",
       "      <th>0</th>\n",
       "      <td>suicideboys</td>\n",
       "      <td>37i9dQZF1DZ06evO15CHq8</td>\n",
       "    </tr>\n",
       "    <tr>\n",
       "      <th>1</th>\n",
       "      <td>21 savage</td>\n",
       "      <td>37i9dQZF1DWYojpWKpDMGi</td>\n",
       "    </tr>\n",
       "    <tr>\n",
       "      <th>2</th>\n",
       "      <td>asap mob</td>\n",
       "      <td>37i9dQZF1DWXmxXDRgAKVq</td>\n",
       "    </tr>\n",
       "    <tr>\n",
       "      <th>3</th>\n",
       "      <td>aaron may</td>\n",
       "      <td>37i9dQZF1DZ06evO1oHoLT</td>\n",
       "    </tr>\n",
       "    <tr>\n",
       "      <th>4</th>\n",
       "      <td>brockhampton</td>\n",
       "      <td>37i9dQZF1DZ06evO0Tiwvu</td>\n",
       "    </tr>\n",
       "    <tr>\n",
       "      <th>5</th>\n",
       "      <td>carti nudy pierre</td>\n",
       "      <td>37i9dQZF1DZ06evO3CRVnO</td>\n",
       "    </tr>\n",
       "    <tr>\n",
       "      <th>6</th>\n",
       "      <td>daft punk</td>\n",
       "      <td>37i9dQZF1DWZAkrucRF6Gq</td>\n",
       "    </tr>\n",
       "    <tr>\n",
       "      <th>7</th>\n",
       "      <td>drake</td>\n",
       "      <td>37i9dQZF1DX7QOv5kjbU68</td>\n",
       "    </tr>\n",
       "    <tr>\n",
       "      <th>8</th>\n",
       "      <td>freddie gibbs</td>\n",
       "      <td>37i9dQZF1DZ06evO0vFpVC</td>\n",
       "    </tr>\n",
       "    <tr>\n",
       "      <th>9</th>\n",
       "      <td>frank ocean</td>\n",
       "      <td>37i9dQZF1DXdyjMX5o2vCq</td>\n",
       "    </tr>\n",
       "  </tbody>\n",
       "</table>\n",
       "</div>"
      ],
      "text/plain": [
       "         artist_name                     uri\n",
       "0        suicideboys  37i9dQZF1DZ06evO15CHq8\n",
       "1          21 savage  37i9dQZF1DWYojpWKpDMGi\n",
       "2           asap mob  37i9dQZF1DWXmxXDRgAKVq\n",
       "3          aaron may  37i9dQZF1DZ06evO1oHoLT\n",
       "4       brockhampton  37i9dQZF1DZ06evO0Tiwvu\n",
       "5  carti nudy pierre  37i9dQZF1DZ06evO3CRVnO\n",
       "6          daft punk  37i9dQZF1DWZAkrucRF6Gq\n",
       "7              drake  37i9dQZF1DX7QOv5kjbU68\n",
       "8      freddie gibbs  37i9dQZF1DZ06evO0vFpVC\n",
       "9        frank ocean  37i9dQZF1DXdyjMX5o2vCq"
      ]
     },
     "execution_count": 216,
     "metadata": {},
     "output_type": "execute_result"
    }
   ],
   "source": [
    "ap_uris = []\n",
    "for link in artist_playlists.playlist_link:\n",
    "    uri = uri_from_playlist(link)\n",
    "    ap_uris.append(uri)\n",
    "\n",
    "artist_playlists['uri'] = ap_uris\n",
    "artist_playlists.drop('playlist_link',axis=1,inplace=True)\n",
    "artist_playlists.head(10)"
   ]
  },
  {
   "cell_type": "code",
   "execution_count": 220,
   "id": "083e5420",
   "metadata": {},
   "outputs": [
    {
     "name": "stdout",
     "output_type": "stream",
     "text": [
      "Starting track parsing process for suicideboys\n",
      "Data from  10 songs have been parsed\n",
      "Data from  20 songs have been parsed\n",
      "Data from  30 songs have been parsed\n",
      "Data from  40 songs have been parsed\n",
      "All data from suicideboys has been added to the feature matrix\n",
      "   danceability  energy  key  loudness  mode  speechiness  acousticness  \\\n",
      "0         0.792   0.511  2.0    -6.876   1.0       0.0409         0.124   \n",
      "1         0.753   0.680  5.0    -7.092   0.0       0.0349         0.326   \n",
      "\n",
      "   instrumentalness  liveness  valence    tempo  duration_ms  time_signature  \n",
      "0          0.000090     0.140    0.111  113.983     168490.0             4.0  \n",
      "1          0.000041     0.423    0.192  105.977     145078.0             4.0  \n",
      "   popularity\n",
      "0          81\n",
      "1          78\n",
      "Added to artist_data. Running loop again...\n",
      "\n",
      "Starting track parsing process for 21 savage\n"
     ]
    },
    {
     "ename": "KeyboardInterrupt",
     "evalue": "",
     "output_type": "error",
     "traceback": [
      "\u001b[0;31m---------------------------------------------------------------------------\u001b[0m",
      "\u001b[0;31mKeyboardInterrupt\u001b[0m                         Traceback (most recent call last)",
      "\u001b[0;32m/var/folders/f8/n3c9f3d91gl0y1xv3gycqn8c0000gn/T/ipykernel_45324/3958213140.py\u001b[0m in \u001b[0;36m<module>\u001b[0;34m\u001b[0m\n\u001b[1;32m     32\u001b[0m         \u001b[0mfeat_list\u001b[0m \u001b[0;34m=\u001b[0m \u001b[0;34m[\u001b[0m\u001b[0;34m]\u001b[0m\u001b[0;34m\u001b[0m\u001b[0;34m\u001b[0m\u001b[0m\n\u001b[1;32m     33\u001b[0m         \u001b[0;32mfor\u001b[0m \u001b[0mvals\u001b[0m \u001b[0;32min\u001b[0m \u001b[0mnumeric_features\u001b[0m\u001b[0;34m:\u001b[0m\u001b[0;34m\u001b[0m\u001b[0;34m\u001b[0m\u001b[0m\n\u001b[0;32m---> 34\u001b[0;31m             \u001b[0mvalue\u001b[0m \u001b[0;34m=\u001b[0m \u001b[0msp\u001b[0m\u001b[0;34m.\u001b[0m\u001b[0maudio_features\u001b[0m\u001b[0;34m(\u001b[0m\u001b[0muri\u001b[0m\u001b[0;34m)\u001b[0m\u001b[0;34m[\u001b[0m\u001b[0;36m0\u001b[0m\u001b[0;34m]\u001b[0m\u001b[0;34m[\u001b[0m\u001b[0mvals\u001b[0m\u001b[0;34m]\u001b[0m\u001b[0;34m\u001b[0m\u001b[0;34m\u001b[0m\u001b[0m\n\u001b[0m\u001b[1;32m     35\u001b[0m             \u001b[0mfeat_list\u001b[0m\u001b[0;34m.\u001b[0m\u001b[0mappend\u001b[0m\u001b[0;34m(\u001b[0m\u001b[0mvalue\u001b[0m\u001b[0;34m)\u001b[0m\u001b[0;34m\u001b[0m\u001b[0;34m\u001b[0m\u001b[0m\n\u001b[1;32m     36\u001b[0m         \u001b[0mfeat_s\u001b[0m \u001b[0;34m=\u001b[0m \u001b[0mpd\u001b[0m\u001b[0;34m.\u001b[0m\u001b[0mSeries\u001b[0m\u001b[0;34m(\u001b[0m\u001b[0mfeat_list\u001b[0m\u001b[0;34m)\u001b[0m\u001b[0;34m.\u001b[0m\u001b[0mT\u001b[0m\u001b[0;34m\u001b[0m\u001b[0;34m\u001b[0m\u001b[0m\n",
      "\u001b[0;32m/opt/anaconda3/lib/python3.9/site-packages/spotipy/client.py\u001b[0m in \u001b[0;36maudio_features\u001b[0;34m(self, tracks)\u001b[0m\n\u001b[1;32m   1678\u001b[0m         \u001b[0;32mif\u001b[0m \u001b[0misinstance\u001b[0m\u001b[0;34m(\u001b[0m\u001b[0mtracks\u001b[0m\u001b[0;34m,\u001b[0m \u001b[0mstr\u001b[0m\u001b[0;34m)\u001b[0m\u001b[0;34m:\u001b[0m\u001b[0;34m\u001b[0m\u001b[0;34m\u001b[0m\u001b[0m\n\u001b[1;32m   1679\u001b[0m             \u001b[0mtrackid\u001b[0m \u001b[0;34m=\u001b[0m \u001b[0mself\u001b[0m\u001b[0;34m.\u001b[0m\u001b[0m_get_id\u001b[0m\u001b[0;34m(\u001b[0m\u001b[0;34m\"track\"\u001b[0m\u001b[0;34m,\u001b[0m \u001b[0mtracks\u001b[0m\u001b[0;34m)\u001b[0m\u001b[0;34m\u001b[0m\u001b[0;34m\u001b[0m\u001b[0m\n\u001b[0;32m-> 1680\u001b[0;31m             \u001b[0mresults\u001b[0m \u001b[0;34m=\u001b[0m \u001b[0mself\u001b[0m\u001b[0;34m.\u001b[0m\u001b[0m_get\u001b[0m\u001b[0;34m(\u001b[0m\u001b[0;34m\"audio-features/?ids=\"\u001b[0m \u001b[0;34m+\u001b[0m \u001b[0mtrackid\u001b[0m\u001b[0;34m)\u001b[0m\u001b[0;34m\u001b[0m\u001b[0;34m\u001b[0m\u001b[0m\n\u001b[0m\u001b[1;32m   1681\u001b[0m         \u001b[0;32melse\u001b[0m\u001b[0;34m:\u001b[0m\u001b[0;34m\u001b[0m\u001b[0;34m\u001b[0m\u001b[0m\n\u001b[1;32m   1682\u001b[0m             \u001b[0mtlist\u001b[0m \u001b[0;34m=\u001b[0m \u001b[0;34m[\u001b[0m\u001b[0mself\u001b[0m\u001b[0;34m.\u001b[0m\u001b[0m_get_id\u001b[0m\u001b[0;34m(\u001b[0m\u001b[0;34m\"track\"\u001b[0m\u001b[0;34m,\u001b[0m \u001b[0mt\u001b[0m\u001b[0;34m)\u001b[0m \u001b[0;32mfor\u001b[0m \u001b[0mt\u001b[0m \u001b[0;32min\u001b[0m \u001b[0mtracks\u001b[0m\u001b[0;34m]\u001b[0m\u001b[0;34m\u001b[0m\u001b[0;34m\u001b[0m\u001b[0m\n",
      "\u001b[0;32m/opt/anaconda3/lib/python3.9/site-packages/spotipy/client.py\u001b[0m in \u001b[0;36m_get\u001b[0;34m(self, url, args, payload, **kwargs)\u001b[0m\n\u001b[1;32m    295\u001b[0m             \u001b[0mkwargs\u001b[0m\u001b[0;34m.\u001b[0m\u001b[0mupdate\u001b[0m\u001b[0;34m(\u001b[0m\u001b[0margs\u001b[0m\u001b[0;34m)\u001b[0m\u001b[0;34m\u001b[0m\u001b[0;34m\u001b[0m\u001b[0m\n\u001b[1;32m    296\u001b[0m \u001b[0;34m\u001b[0m\u001b[0m\n\u001b[0;32m--> 297\u001b[0;31m         \u001b[0;32mreturn\u001b[0m \u001b[0mself\u001b[0m\u001b[0;34m.\u001b[0m\u001b[0m_internal_call\u001b[0m\u001b[0;34m(\u001b[0m\u001b[0;34m\"GET\"\u001b[0m\u001b[0;34m,\u001b[0m \u001b[0murl\u001b[0m\u001b[0;34m,\u001b[0m \u001b[0mpayload\u001b[0m\u001b[0;34m,\u001b[0m \u001b[0mkwargs\u001b[0m\u001b[0;34m)\u001b[0m\u001b[0;34m\u001b[0m\u001b[0;34m\u001b[0m\u001b[0m\n\u001b[0m\u001b[1;32m    298\u001b[0m \u001b[0;34m\u001b[0m\u001b[0m\n\u001b[1;32m    299\u001b[0m     \u001b[0;32mdef\u001b[0m \u001b[0m_post\u001b[0m\u001b[0;34m(\u001b[0m\u001b[0mself\u001b[0m\u001b[0;34m,\u001b[0m \u001b[0murl\u001b[0m\u001b[0;34m,\u001b[0m \u001b[0margs\u001b[0m\u001b[0;34m=\u001b[0m\u001b[0;32mNone\u001b[0m\u001b[0;34m,\u001b[0m \u001b[0mpayload\u001b[0m\u001b[0;34m=\u001b[0m\u001b[0;32mNone\u001b[0m\u001b[0;34m,\u001b[0m \u001b[0;34m**\u001b[0m\u001b[0mkwargs\u001b[0m\u001b[0;34m)\u001b[0m\u001b[0;34m:\u001b[0m\u001b[0;34m\u001b[0m\u001b[0;34m\u001b[0m\u001b[0m\n",
      "\u001b[0;32m/opt/anaconda3/lib/python3.9/site-packages/spotipy/client.py\u001b[0m in \u001b[0;36m_internal_call\u001b[0;34m(self, method, url, payload, params)\u001b[0m\n\u001b[1;32m    238\u001b[0m \u001b[0;34m\u001b[0m\u001b[0m\n\u001b[1;32m    239\u001b[0m         \u001b[0;32mtry\u001b[0m\u001b[0;34m:\u001b[0m\u001b[0;34m\u001b[0m\u001b[0;34m\u001b[0m\u001b[0m\n\u001b[0;32m--> 240\u001b[0;31m             response = self._session.request(\n\u001b[0m\u001b[1;32m    241\u001b[0m                 \u001b[0mmethod\u001b[0m\u001b[0;34m,\u001b[0m \u001b[0murl\u001b[0m\u001b[0;34m,\u001b[0m \u001b[0mheaders\u001b[0m\u001b[0;34m=\u001b[0m\u001b[0mheaders\u001b[0m\u001b[0;34m,\u001b[0m \u001b[0mproxies\u001b[0m\u001b[0;34m=\u001b[0m\u001b[0mself\u001b[0m\u001b[0;34m.\u001b[0m\u001b[0mproxies\u001b[0m\u001b[0;34m,\u001b[0m\u001b[0;34m\u001b[0m\u001b[0;34m\u001b[0m\u001b[0m\n\u001b[1;32m    242\u001b[0m                 \u001b[0mtimeout\u001b[0m\u001b[0;34m=\u001b[0m\u001b[0mself\u001b[0m\u001b[0;34m.\u001b[0m\u001b[0mrequests_timeout\u001b[0m\u001b[0;34m,\u001b[0m \u001b[0;34m**\u001b[0m\u001b[0margs\u001b[0m\u001b[0;34m\u001b[0m\u001b[0;34m\u001b[0m\u001b[0m\n",
      "\u001b[0;32m/opt/anaconda3/lib/python3.9/site-packages/requests/sessions.py\u001b[0m in \u001b[0;36mrequest\u001b[0;34m(self, method, url, params, data, headers, cookies, files, auth, timeout, allow_redirects, proxies, hooks, stream, verify, cert, json)\u001b[0m\n\u001b[1;32m    527\u001b[0m         }\n\u001b[1;32m    528\u001b[0m         \u001b[0msend_kwargs\u001b[0m\u001b[0;34m.\u001b[0m\u001b[0mupdate\u001b[0m\u001b[0;34m(\u001b[0m\u001b[0msettings\u001b[0m\u001b[0;34m)\u001b[0m\u001b[0;34m\u001b[0m\u001b[0;34m\u001b[0m\u001b[0m\n\u001b[0;32m--> 529\u001b[0;31m         \u001b[0mresp\u001b[0m \u001b[0;34m=\u001b[0m \u001b[0mself\u001b[0m\u001b[0;34m.\u001b[0m\u001b[0msend\u001b[0m\u001b[0;34m(\u001b[0m\u001b[0mprep\u001b[0m\u001b[0;34m,\u001b[0m \u001b[0;34m**\u001b[0m\u001b[0msend_kwargs\u001b[0m\u001b[0;34m)\u001b[0m\u001b[0;34m\u001b[0m\u001b[0;34m\u001b[0m\u001b[0m\n\u001b[0m\u001b[1;32m    530\u001b[0m \u001b[0;34m\u001b[0m\u001b[0m\n\u001b[1;32m    531\u001b[0m         \u001b[0;32mreturn\u001b[0m \u001b[0mresp\u001b[0m\u001b[0;34m\u001b[0m\u001b[0;34m\u001b[0m\u001b[0m\n",
      "\u001b[0;32m/opt/anaconda3/lib/python3.9/site-packages/requests/sessions.py\u001b[0m in \u001b[0;36msend\u001b[0;34m(self, request, **kwargs)\u001b[0m\n\u001b[1;32m    643\u001b[0m \u001b[0;34m\u001b[0m\u001b[0m\n\u001b[1;32m    644\u001b[0m         \u001b[0;31m# Send the request\u001b[0m\u001b[0;34m\u001b[0m\u001b[0;34m\u001b[0m\u001b[0m\n\u001b[0;32m--> 645\u001b[0;31m         \u001b[0mr\u001b[0m \u001b[0;34m=\u001b[0m \u001b[0madapter\u001b[0m\u001b[0;34m.\u001b[0m\u001b[0msend\u001b[0m\u001b[0;34m(\u001b[0m\u001b[0mrequest\u001b[0m\u001b[0;34m,\u001b[0m \u001b[0;34m**\u001b[0m\u001b[0mkwargs\u001b[0m\u001b[0;34m)\u001b[0m\u001b[0;34m\u001b[0m\u001b[0;34m\u001b[0m\u001b[0m\n\u001b[0m\u001b[1;32m    646\u001b[0m \u001b[0;34m\u001b[0m\u001b[0m\n\u001b[1;32m    647\u001b[0m         \u001b[0;31m# Total elapsed time of the request (approximately)\u001b[0m\u001b[0;34m\u001b[0m\u001b[0;34m\u001b[0m\u001b[0m\n",
      "\u001b[0;32m/opt/anaconda3/lib/python3.9/site-packages/requests/adapters.py\u001b[0m in \u001b[0;36msend\u001b[0;34m(self, request, stream, timeout, verify, cert, proxies)\u001b[0m\n\u001b[1;32m    438\u001b[0m         \u001b[0;32mtry\u001b[0m\u001b[0;34m:\u001b[0m\u001b[0;34m\u001b[0m\u001b[0;34m\u001b[0m\u001b[0m\n\u001b[1;32m    439\u001b[0m             \u001b[0;32mif\u001b[0m \u001b[0;32mnot\u001b[0m \u001b[0mchunked\u001b[0m\u001b[0;34m:\u001b[0m\u001b[0;34m\u001b[0m\u001b[0;34m\u001b[0m\u001b[0m\n\u001b[0;32m--> 440\u001b[0;31m                 resp = conn.urlopen(\n\u001b[0m\u001b[1;32m    441\u001b[0m                     \u001b[0mmethod\u001b[0m\u001b[0;34m=\u001b[0m\u001b[0mrequest\u001b[0m\u001b[0;34m.\u001b[0m\u001b[0mmethod\u001b[0m\u001b[0;34m,\u001b[0m\u001b[0;34m\u001b[0m\u001b[0;34m\u001b[0m\u001b[0m\n\u001b[1;32m    442\u001b[0m                     \u001b[0murl\u001b[0m\u001b[0;34m=\u001b[0m\u001b[0murl\u001b[0m\u001b[0;34m,\u001b[0m\u001b[0;34m\u001b[0m\u001b[0;34m\u001b[0m\u001b[0m\n",
      "\u001b[0;32m/opt/anaconda3/lib/python3.9/site-packages/urllib3/connectionpool.py\u001b[0m in \u001b[0;36murlopen\u001b[0;34m(self, method, url, body, headers, retries, redirect, assert_same_host, timeout, pool_timeout, release_conn, chunked, body_pos, **response_kw)\u001b[0m\n\u001b[1;32m    697\u001b[0m \u001b[0;34m\u001b[0m\u001b[0m\n\u001b[1;32m    698\u001b[0m             \u001b[0;31m# Make the request on the httplib connection object.\u001b[0m\u001b[0;34m\u001b[0m\u001b[0;34m\u001b[0m\u001b[0m\n\u001b[0;32m--> 699\u001b[0;31m             httplib_response = self._make_request(\n\u001b[0m\u001b[1;32m    700\u001b[0m                 \u001b[0mconn\u001b[0m\u001b[0;34m,\u001b[0m\u001b[0;34m\u001b[0m\u001b[0;34m\u001b[0m\u001b[0m\n\u001b[1;32m    701\u001b[0m                 \u001b[0mmethod\u001b[0m\u001b[0;34m,\u001b[0m\u001b[0;34m\u001b[0m\u001b[0;34m\u001b[0m\u001b[0m\n",
      "\u001b[0;32m/opt/anaconda3/lib/python3.9/site-packages/urllib3/connectionpool.py\u001b[0m in \u001b[0;36m_make_request\u001b[0;34m(self, conn, method, url, timeout, chunked, **httplib_request_kw)\u001b[0m\n\u001b[1;32m    443\u001b[0m                     \u001b[0;31m# Python 3 (including for exceptions like SystemExit).\u001b[0m\u001b[0;34m\u001b[0m\u001b[0;34m\u001b[0m\u001b[0m\n\u001b[1;32m    444\u001b[0m                     \u001b[0;31m# Otherwise it looks like a bug in the code.\u001b[0m\u001b[0;34m\u001b[0m\u001b[0;34m\u001b[0m\u001b[0m\n\u001b[0;32m--> 445\u001b[0;31m                     \u001b[0msix\u001b[0m\u001b[0;34m.\u001b[0m\u001b[0mraise_from\u001b[0m\u001b[0;34m(\u001b[0m\u001b[0me\u001b[0m\u001b[0;34m,\u001b[0m \u001b[0;32mNone\u001b[0m\u001b[0;34m)\u001b[0m\u001b[0;34m\u001b[0m\u001b[0;34m\u001b[0m\u001b[0m\n\u001b[0m\u001b[1;32m    446\u001b[0m         \u001b[0;32mexcept\u001b[0m \u001b[0;34m(\u001b[0m\u001b[0mSocketTimeout\u001b[0m\u001b[0;34m,\u001b[0m \u001b[0mBaseSSLError\u001b[0m\u001b[0;34m,\u001b[0m \u001b[0mSocketError\u001b[0m\u001b[0;34m)\u001b[0m \u001b[0;32mas\u001b[0m \u001b[0me\u001b[0m\u001b[0;34m:\u001b[0m\u001b[0;34m\u001b[0m\u001b[0;34m\u001b[0m\u001b[0m\n\u001b[1;32m    447\u001b[0m             \u001b[0mself\u001b[0m\u001b[0;34m.\u001b[0m\u001b[0m_raise_timeout\u001b[0m\u001b[0;34m(\u001b[0m\u001b[0merr\u001b[0m\u001b[0;34m=\u001b[0m\u001b[0me\u001b[0m\u001b[0;34m,\u001b[0m \u001b[0murl\u001b[0m\u001b[0;34m=\u001b[0m\u001b[0murl\u001b[0m\u001b[0;34m,\u001b[0m \u001b[0mtimeout_value\u001b[0m\u001b[0;34m=\u001b[0m\u001b[0mread_timeout\u001b[0m\u001b[0;34m)\u001b[0m\u001b[0;34m\u001b[0m\u001b[0;34m\u001b[0m\u001b[0m\n",
      "\u001b[0;32m/opt/anaconda3/lib/python3.9/site-packages/urllib3/packages/six.py\u001b[0m in \u001b[0;36mraise_from\u001b[0;34m(value, from_value)\u001b[0m\n",
      "\u001b[0;32m/opt/anaconda3/lib/python3.9/site-packages/urllib3/connectionpool.py\u001b[0m in \u001b[0;36m_make_request\u001b[0;34m(self, conn, method, url, timeout, chunked, **httplib_request_kw)\u001b[0m\n\u001b[1;32m    438\u001b[0m                 \u001b[0;31m# Python 3\u001b[0m\u001b[0;34m\u001b[0m\u001b[0;34m\u001b[0m\u001b[0m\n\u001b[1;32m    439\u001b[0m                 \u001b[0;32mtry\u001b[0m\u001b[0;34m:\u001b[0m\u001b[0;34m\u001b[0m\u001b[0;34m\u001b[0m\u001b[0m\n\u001b[0;32m--> 440\u001b[0;31m                     \u001b[0mhttplib_response\u001b[0m \u001b[0;34m=\u001b[0m \u001b[0mconn\u001b[0m\u001b[0;34m.\u001b[0m\u001b[0mgetresponse\u001b[0m\u001b[0;34m(\u001b[0m\u001b[0;34m)\u001b[0m\u001b[0;34m\u001b[0m\u001b[0;34m\u001b[0m\u001b[0m\n\u001b[0m\u001b[1;32m    441\u001b[0m                 \u001b[0;32mexcept\u001b[0m \u001b[0mBaseException\u001b[0m \u001b[0;32mas\u001b[0m \u001b[0me\u001b[0m\u001b[0;34m:\u001b[0m\u001b[0;34m\u001b[0m\u001b[0;34m\u001b[0m\u001b[0m\n\u001b[1;32m    442\u001b[0m                     \u001b[0;31m# Remove the TypeError from the exception chain in\u001b[0m\u001b[0;34m\u001b[0m\u001b[0;34m\u001b[0m\u001b[0m\n",
      "\u001b[0;32m/opt/anaconda3/lib/python3.9/http/client.py\u001b[0m in \u001b[0;36mgetresponse\u001b[0;34m(self)\u001b[0m\n\u001b[1;32m   1369\u001b[0m         \u001b[0;32mtry\u001b[0m\u001b[0;34m:\u001b[0m\u001b[0;34m\u001b[0m\u001b[0;34m\u001b[0m\u001b[0m\n\u001b[1;32m   1370\u001b[0m             \u001b[0;32mtry\u001b[0m\u001b[0;34m:\u001b[0m\u001b[0;34m\u001b[0m\u001b[0;34m\u001b[0m\u001b[0m\n\u001b[0;32m-> 1371\u001b[0;31m                 \u001b[0mresponse\u001b[0m\u001b[0;34m.\u001b[0m\u001b[0mbegin\u001b[0m\u001b[0;34m(\u001b[0m\u001b[0;34m)\u001b[0m\u001b[0;34m\u001b[0m\u001b[0;34m\u001b[0m\u001b[0m\n\u001b[0m\u001b[1;32m   1372\u001b[0m             \u001b[0;32mexcept\u001b[0m \u001b[0mConnectionError\u001b[0m\u001b[0;34m:\u001b[0m\u001b[0;34m\u001b[0m\u001b[0;34m\u001b[0m\u001b[0m\n\u001b[1;32m   1373\u001b[0m                 \u001b[0mself\u001b[0m\u001b[0;34m.\u001b[0m\u001b[0mclose\u001b[0m\u001b[0;34m(\u001b[0m\u001b[0;34m)\u001b[0m\u001b[0;34m\u001b[0m\u001b[0;34m\u001b[0m\u001b[0m\n",
      "\u001b[0;32m/opt/anaconda3/lib/python3.9/http/client.py\u001b[0m in \u001b[0;36mbegin\u001b[0;34m(self)\u001b[0m\n\u001b[1;32m    317\u001b[0m         \u001b[0;31m# read until we get a non-100 response\u001b[0m\u001b[0;34m\u001b[0m\u001b[0;34m\u001b[0m\u001b[0m\n\u001b[1;32m    318\u001b[0m         \u001b[0;32mwhile\u001b[0m \u001b[0;32mTrue\u001b[0m\u001b[0;34m:\u001b[0m\u001b[0;34m\u001b[0m\u001b[0;34m\u001b[0m\u001b[0m\n\u001b[0;32m--> 319\u001b[0;31m             \u001b[0mversion\u001b[0m\u001b[0;34m,\u001b[0m \u001b[0mstatus\u001b[0m\u001b[0;34m,\u001b[0m \u001b[0mreason\u001b[0m \u001b[0;34m=\u001b[0m \u001b[0mself\u001b[0m\u001b[0;34m.\u001b[0m\u001b[0m_read_status\u001b[0m\u001b[0;34m(\u001b[0m\u001b[0;34m)\u001b[0m\u001b[0;34m\u001b[0m\u001b[0;34m\u001b[0m\u001b[0m\n\u001b[0m\u001b[1;32m    320\u001b[0m             \u001b[0;32mif\u001b[0m \u001b[0mstatus\u001b[0m \u001b[0;34m!=\u001b[0m \u001b[0mCONTINUE\u001b[0m\u001b[0;34m:\u001b[0m\u001b[0;34m\u001b[0m\u001b[0;34m\u001b[0m\u001b[0m\n\u001b[1;32m    321\u001b[0m                 \u001b[0;32mbreak\u001b[0m\u001b[0;34m\u001b[0m\u001b[0;34m\u001b[0m\u001b[0m\n",
      "\u001b[0;32m/opt/anaconda3/lib/python3.9/http/client.py\u001b[0m in \u001b[0;36m_read_status\u001b[0;34m(self)\u001b[0m\n\u001b[1;32m    278\u001b[0m \u001b[0;34m\u001b[0m\u001b[0m\n\u001b[1;32m    279\u001b[0m     \u001b[0;32mdef\u001b[0m \u001b[0m_read_status\u001b[0m\u001b[0;34m(\u001b[0m\u001b[0mself\u001b[0m\u001b[0;34m)\u001b[0m\u001b[0;34m:\u001b[0m\u001b[0;34m\u001b[0m\u001b[0;34m\u001b[0m\u001b[0m\n\u001b[0;32m--> 280\u001b[0;31m         \u001b[0mline\u001b[0m \u001b[0;34m=\u001b[0m \u001b[0mstr\u001b[0m\u001b[0;34m(\u001b[0m\u001b[0mself\u001b[0m\u001b[0;34m.\u001b[0m\u001b[0mfp\u001b[0m\u001b[0;34m.\u001b[0m\u001b[0mreadline\u001b[0m\u001b[0;34m(\u001b[0m\u001b[0m_MAXLINE\u001b[0m \u001b[0;34m+\u001b[0m \u001b[0;36m1\u001b[0m\u001b[0;34m)\u001b[0m\u001b[0;34m,\u001b[0m \u001b[0;34m\"iso-8859-1\"\u001b[0m\u001b[0;34m)\u001b[0m\u001b[0;34m\u001b[0m\u001b[0;34m\u001b[0m\u001b[0m\n\u001b[0m\u001b[1;32m    281\u001b[0m         \u001b[0;32mif\u001b[0m \u001b[0mlen\u001b[0m\u001b[0;34m(\u001b[0m\u001b[0mline\u001b[0m\u001b[0;34m)\u001b[0m \u001b[0;34m>\u001b[0m \u001b[0m_MAXLINE\u001b[0m\u001b[0;34m:\u001b[0m\u001b[0;34m\u001b[0m\u001b[0;34m\u001b[0m\u001b[0m\n\u001b[1;32m    282\u001b[0m             \u001b[0;32mraise\u001b[0m \u001b[0mLineTooLong\u001b[0m\u001b[0;34m(\u001b[0m\u001b[0;34m\"status line\"\u001b[0m\u001b[0;34m)\u001b[0m\u001b[0;34m\u001b[0m\u001b[0;34m\u001b[0m\u001b[0m\n",
      "\u001b[0;32m/opt/anaconda3/lib/python3.9/socket.py\u001b[0m in \u001b[0;36mreadinto\u001b[0;34m(self, b)\u001b[0m\n\u001b[1;32m    702\u001b[0m         \u001b[0;32mwhile\u001b[0m \u001b[0;32mTrue\u001b[0m\u001b[0;34m:\u001b[0m\u001b[0;34m\u001b[0m\u001b[0;34m\u001b[0m\u001b[0m\n\u001b[1;32m    703\u001b[0m             \u001b[0;32mtry\u001b[0m\u001b[0;34m:\u001b[0m\u001b[0;34m\u001b[0m\u001b[0;34m\u001b[0m\u001b[0m\n\u001b[0;32m--> 704\u001b[0;31m                 \u001b[0;32mreturn\u001b[0m \u001b[0mself\u001b[0m\u001b[0;34m.\u001b[0m\u001b[0m_sock\u001b[0m\u001b[0;34m.\u001b[0m\u001b[0mrecv_into\u001b[0m\u001b[0;34m(\u001b[0m\u001b[0mb\u001b[0m\u001b[0;34m)\u001b[0m\u001b[0;34m\u001b[0m\u001b[0;34m\u001b[0m\u001b[0m\n\u001b[0m\u001b[1;32m    705\u001b[0m             \u001b[0;32mexcept\u001b[0m \u001b[0mtimeout\u001b[0m\u001b[0;34m:\u001b[0m\u001b[0;34m\u001b[0m\u001b[0;34m\u001b[0m\u001b[0m\n\u001b[1;32m    706\u001b[0m                 \u001b[0mself\u001b[0m\u001b[0;34m.\u001b[0m\u001b[0m_timeout_occurred\u001b[0m \u001b[0;34m=\u001b[0m \u001b[0;32mTrue\u001b[0m\u001b[0;34m\u001b[0m\u001b[0;34m\u001b[0m\u001b[0m\n",
      "\u001b[0;32m/opt/anaconda3/lib/python3.9/ssl.py\u001b[0m in \u001b[0;36mrecv_into\u001b[0;34m(self, buffer, nbytes, flags)\u001b[0m\n\u001b[1;32m   1239\u001b[0m                   \u001b[0;34m\"non-zero flags not allowed in calls to recv_into() on %s\"\u001b[0m \u001b[0;34m%\u001b[0m\u001b[0;34m\u001b[0m\u001b[0;34m\u001b[0m\u001b[0m\n\u001b[1;32m   1240\u001b[0m                   self.__class__)\n\u001b[0;32m-> 1241\u001b[0;31m             \u001b[0;32mreturn\u001b[0m \u001b[0mself\u001b[0m\u001b[0;34m.\u001b[0m\u001b[0mread\u001b[0m\u001b[0;34m(\u001b[0m\u001b[0mnbytes\u001b[0m\u001b[0;34m,\u001b[0m \u001b[0mbuffer\u001b[0m\u001b[0;34m)\u001b[0m\u001b[0;34m\u001b[0m\u001b[0;34m\u001b[0m\u001b[0m\n\u001b[0m\u001b[1;32m   1242\u001b[0m         \u001b[0;32melse\u001b[0m\u001b[0;34m:\u001b[0m\u001b[0;34m\u001b[0m\u001b[0;34m\u001b[0m\u001b[0m\n\u001b[1;32m   1243\u001b[0m             \u001b[0;32mreturn\u001b[0m \u001b[0msuper\u001b[0m\u001b[0;34m(\u001b[0m\u001b[0;34m)\u001b[0m\u001b[0;34m.\u001b[0m\u001b[0mrecv_into\u001b[0m\u001b[0;34m(\u001b[0m\u001b[0mbuffer\u001b[0m\u001b[0;34m,\u001b[0m \u001b[0mnbytes\u001b[0m\u001b[0;34m,\u001b[0m \u001b[0mflags\u001b[0m\u001b[0;34m)\u001b[0m\u001b[0;34m\u001b[0m\u001b[0;34m\u001b[0m\u001b[0m\n",
      "\u001b[0;32m/opt/anaconda3/lib/python3.9/ssl.py\u001b[0m in \u001b[0;36mread\u001b[0;34m(self, len, buffer)\u001b[0m\n\u001b[1;32m   1097\u001b[0m         \u001b[0;32mtry\u001b[0m\u001b[0;34m:\u001b[0m\u001b[0;34m\u001b[0m\u001b[0;34m\u001b[0m\u001b[0m\n\u001b[1;32m   1098\u001b[0m             \u001b[0;32mif\u001b[0m \u001b[0mbuffer\u001b[0m \u001b[0;32mis\u001b[0m \u001b[0;32mnot\u001b[0m \u001b[0;32mNone\u001b[0m\u001b[0;34m:\u001b[0m\u001b[0;34m\u001b[0m\u001b[0;34m\u001b[0m\u001b[0m\n\u001b[0;32m-> 1099\u001b[0;31m                 \u001b[0;32mreturn\u001b[0m \u001b[0mself\u001b[0m\u001b[0;34m.\u001b[0m\u001b[0m_sslobj\u001b[0m\u001b[0;34m.\u001b[0m\u001b[0mread\u001b[0m\u001b[0;34m(\u001b[0m\u001b[0mlen\u001b[0m\u001b[0;34m,\u001b[0m \u001b[0mbuffer\u001b[0m\u001b[0;34m)\u001b[0m\u001b[0;34m\u001b[0m\u001b[0;34m\u001b[0m\u001b[0m\n\u001b[0m\u001b[1;32m   1100\u001b[0m             \u001b[0;32melse\u001b[0m\u001b[0;34m:\u001b[0m\u001b[0;34m\u001b[0m\u001b[0;34m\u001b[0m\u001b[0m\n\u001b[1;32m   1101\u001b[0m                 \u001b[0;32mreturn\u001b[0m \u001b[0mself\u001b[0m\u001b[0;34m.\u001b[0m\u001b[0m_sslobj\u001b[0m\u001b[0;34m.\u001b[0m\u001b[0mread\u001b[0m\u001b[0;34m(\u001b[0m\u001b[0mlen\u001b[0m\u001b[0;34m)\u001b[0m\u001b[0;34m\u001b[0m\u001b[0;34m\u001b[0m\u001b[0m\n",
      "\u001b[0;31mKeyboardInterrupt\u001b[0m: "
     ]
    }
   ],
   "source": [
    "#dataframe storing the mean of each feature for each artist \n",
    "artist_data = pd.DataFrame()\n",
    "#dataframe to hold features during loop\n",
    "#features_df = pd.DataFrame()\n",
    "\n",
    "#step1 - pull each song from the playlist and save it into a tracklist\n",
    "#step2 - create dataframe from tracklist and take average of columns\n",
    "#step3 - add the mean columns along with artist name into artist_data\n",
    "\n",
    "for idxx,uril in enumerate(artist_playlists['uri']):\n",
    "    #pulling songs from each playlist into tracklist\n",
    "    tracklist = track_output_from_playlist_100(uril)\n",
    "    \n",
    "    #to display the name of each track, uncomment the print statement\n",
    "    track_uris = []\n",
    "    track_names = []\n",
    "    for tracks in tracklist:\n",
    "        #print(idx,'-', tracks['track']['name'],'\\n')\n",
    "        track_uris.append(tracks['track']['uri'])\n",
    "        track_names.append(tracks['track']['name'])\n",
    "\n",
    "    #saving popularity score for each song\n",
    "    pop_score=[]\n",
    "    for t in range(0, len(tracklist)):\n",
    "        pop_score.append(tracklist[t]['track']['popularity'])\n",
    "    pop_score = pd.DataFrame(pop_score, columns=['popularity'])\n",
    "    \n",
    "    features_df = pd.DataFrame()\n",
    "    \n",
    "    print('Starting track parsing process for', artist_playlists.iloc[idxx,0])\n",
    "    for idx,uri in enumerate(track_uris):\n",
    "        feat_list = []\n",
    "        for vals in numeric_features:\n",
    "            value = sp.audio_features(uri)[0][vals]\n",
    "            feat_list.append(value)\n",
    "        feat_s = pd.Series(feat_list).T\n",
    "        #print(feat_s.shape)\n",
    "        features_df = pd.concat([features_df, feat_s], axis=1)\n",
    "        if idx % 10 == 0 and idx != 0:\n",
    "            print('Data from ', idx, 'songs have been parsed')\n",
    "    \n",
    "    print(\"All data from\", artist_playlists.iloc[idxx,0], \"has been added to the feature matrix\")\n",
    "    \n",
    "    #after creation of features_df for the songs in playlist, format it and take means\n",
    "    features_df.index = numeric_features\n",
    "    #features_df.columns = track_names\n",
    "    features_df = features_df.T.reset_index(drop=True)\n",
    "    print(features_df.head(2))\n",
    "    print(pop_score.head(2))\n",
    "    features_df = pd.concat([features_df, pop_score], axis=1, ignore_index=True)\n",
    "    means = pd.DataFrame(features_df.mean()).T.reset_index(drop=True)\n",
    "    artist_data = pd.concat([artist_data,means])\n",
    "    print(\"Added to artist_data. Running loop again...\\n\")"
   ]
  },
  {
   "cell_type": "code",
   "execution_count": 11,
   "id": "a4578e4d",
   "metadata": {},
   "outputs": [],
   "source": [
    "artist_data.index = artist_playlists['artist_name']"
   ]
  },
  {
   "cell_type": "code",
   "execution_count": 12,
   "id": "93192e69",
   "metadata": {},
   "outputs": [],
   "source": [
    "#artist_data.to_csv('spotify_artist_data.csv')"
   ]
  }
 ],
 "metadata": {
  "kernelspec": {
   "display_name": "Python 3 (ipykernel)",
   "language": "python",
   "name": "python3"
  },
  "language_info": {
   "codemirror_mode": {
    "name": "ipython",
    "version": 3
   },
   "file_extension": ".py",
   "mimetype": "text/x-python",
   "name": "python",
   "nbconvert_exporter": "python",
   "pygments_lexer": "ipython3",
   "version": "3.9.7"
  }
 },
 "nbformat": 4,
 "nbformat_minor": 5
}
